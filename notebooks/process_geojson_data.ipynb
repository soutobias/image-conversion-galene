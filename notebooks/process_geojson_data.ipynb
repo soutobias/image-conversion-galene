{
 "cells": [
  {
   "cell_type": "code",
   "execution_count": 1,
   "id": "6ff59875",
   "metadata": {},
   "outputs": [],
   "source": [
    "from geojson import Point, Feature, FeatureCollection, dump\n",
    "import geopandas\n",
    "import requests\n",
    "import geojson\n",
    "from pathlib import Path\n",
    "import os\n",
    "from s3fs import S3FileSystem\n",
    "from dotenv import load_dotenv\n",
    "import click\n",
    "\n",
    "load_dotenv()\n",
    "%load_ext autoreload\n",
    "%autoreload 2"
   ]
  },
  {
   "cell_type": "code",
   "execution_count": null,
   "id": "d17bc00e",
   "metadata": {},
   "outputs": [],
   "source": []
  },
  {
   "cell_type": "code",
   "execution_count": null,
   "id": "416dd38e",
   "metadata": {},
   "outputs": [],
   "source": []
  },
  {
   "cell_type": "markdown",
   "id": "f42c03cb",
   "metadata": {},
   "source": [
    "OPEN EMODNET SEABED 2019"
   ]
  },
  {
   "cell_type": "code",
   "execution_count": 3,
   "id": "f3995640",
   "metadata": {},
   "outputs": [],
   "source": [
    "# https://ows.emodnet-seabedhabitats.eu/geoserver/emodnet_open/wfs?SERVICE=WFS&request=getFeature&VERSION=2.0.0&typeName=emodnet_open:eusm2021_bio_full&outputFormat=application/json&bbox=-1413232,6288190,-365497,6914553\""
   ]
  },
  {
   "cell_type": "code",
   "execution_count": 4,
   "id": "89850561",
   "metadata": {},
   "outputs": [],
   "source": [
    "url = \"https://ows.emodnet-seabedhabitats.eu/geoserver/emodnet_open/wfs?\"\n",
    "options = {\n",
    "    'SERVICE':'WFS',\n",
    "    'request':'getFeature',\n",
    "    'VERSION':'2.0.0',\n",
    "    'typeName':'emodnet_open:eusm2021_bio_full',\n",
    "    'outputFormat':'application/json',\n",
    "    'bbox':'-1413232,6288190,-365497,6914553'\n",
    "}\n",
    "output = 'haigfras_biozones.geojson'\n",
    "bbox=[-1413232,6288190,-365497,6914553]"
   ]
  },
  {
   "cell_type": "code",
   "execution_count": 30,
   "id": "45afaf53",
   "metadata": {},
   "outputs": [],
   "source": [
    "from process_emodnet_geojson import ProcessGeoJson"
   ]
  },
  {
   "cell_type": "code",
   "execution_count": 31,
   "id": "369f1227",
   "metadata": {},
   "outputs": [],
   "source": [
    "p = ProcessGeoJson(input_url = url, input_options = options, output=output, bbox=bbox)"
   ]
  },
  {
   "cell_type": "code",
   "execution_count": 32,
   "id": "938c6b77",
   "metadata": {},
   "outputs": [
    {
     "name": "stdout",
     "output_type": "stream",
     "text": [
      "downloading data\n",
      "data downloaded\n"
     ]
    }
   ],
   "source": [
    "p.download_emodnet_wfs()"
   ]
  },
  {
   "cell_type": "code",
   "execution_count": 33,
   "id": "c4c2c8a6",
   "metadata": {},
   "outputs": [],
   "source": [
    "p.clip_geojson()"
   ]
  },
  {
   "cell_type": "code",
   "execution_count": 51,
   "id": "c7780208",
   "metadata": {},
   "outputs": [],
   "source": []
  },
  {
   "cell_type": "code",
   "execution_count": 39,
   "id": "f95c8b53",
   "metadata": {},
   "outputs": [
    {
     "data": {
      "text/plain": [
       "'clipped_haigfras_biozones.geojson'"
      ]
     },
     "execution_count": 39,
     "metadata": {},
     "output_type": "execute_result"
    }
   ],
   "source": [
    "p.file_clipped"
   ]
  },
  {
   "cell_type": "code",
   "execution_count": 41,
   "id": "ffe11c0a",
   "metadata": {},
   "outputs": [
    {
     "data": {
      "text/plain": [
       "'s3://haig-fras/clipped_haigfras_biozones.geojson'"
      ]
     },
     "execution_count": 41,
     "metadata": {},
     "output_type": "execute_result"
    }
   ],
   "source": [
    "remote_path = f\"s3://{p.bucket}/{p.file_clipped}\"\n",
    "remote_path"
   ]
  },
  {
   "cell_type": "code",
   "execution_count": 52,
   "id": "61df1981",
   "metadata": {},
   "outputs": [],
   "source": [
    "from s3fs import S3FileSystem\n",
    "s3 = S3FileSystem(anon=False,\n",
    "                key=p.__jasmin_token,\n",
    "                secret=p.__jasmin_secret,\n",
    "                client_kwargs={\"endpoint_url\": p.__jasmin_api_url})\n",
    "\n",
    "remote_path = f\"s3://{p.bucket}/{p.file_clipped}\"\n"
   ]
  },
  {
   "cell_type": "code",
   "execution_count": 53,
   "id": "10bc61aa",
   "metadata": {},
   "outputs": [],
   "source": [
    "with s3.open(remote_path, mode=\"wb\", s3=dict(profile=\"default\")) as remote_file:\n",
    "    with open(f'data/{p.file_clipped}', mode=\"rb\") as local_file:\n",
    "        remote_file.write(local_file.read())"
   ]
  },
  {
   "cell_type": "code",
   "execution_count": 38,
   "id": "254ae35b",
   "metadata": {},
   "outputs": [
    {
     "name": "stdout",
     "output_type": "stream",
     "text": [
      "Unable to locate credentials\n"
     ]
    },
    {
     "ename": "NoCredentialsError",
     "evalue": "Unable to locate credentials",
     "output_type": "error",
     "traceback": [
      "\u001b[0;31m---------------------------------------------------------------------------\u001b[0m",
      "\u001b[0;31mNoCredentialsError\u001b[0m                        Traceback (most recent call last)",
      "Cell \u001b[0;32mIn [38], line 1\u001b[0m\n\u001b[0;32m----> 1\u001b[0m \u001b[43mp\u001b[49m\u001b[38;5;241;43m.\u001b[39;49m\u001b[43mupload_jasmine\u001b[49m\u001b[43m(\u001b[49m\u001b[43m)\u001b[49m\n",
      "File \u001b[0;32m~/code/noc-gitlab/imfe-pilot/scripts/files_to_geojson/process_emodnet_geojson.py:86\u001b[0m, in \u001b[0;36mProcessGeoJson.upload_jasmine\u001b[0;34m(self)\u001b[0m\n\u001b[1;32m     84\u001b[0m     \u001b[38;5;28;01mwith\u001b[39;00m s3\u001b[38;5;241m.\u001b[39mopen(remote_path, mode\u001b[38;5;241m=\u001b[39m\u001b[38;5;124m\"\u001b[39m\u001b[38;5;124mwb\u001b[39m\u001b[38;5;124m\"\u001b[39m, s3\u001b[38;5;241m=\u001b[39m\u001b[38;5;28mdict\u001b[39m(profile\u001b[38;5;241m=\u001b[39m\u001b[38;5;124m\"\u001b[39m\u001b[38;5;124mdefault\u001b[39m\u001b[38;5;124m\"\u001b[39m)) \u001b[38;5;28;01mas\u001b[39;00m remote_file:\n\u001b[1;32m     85\u001b[0m         \u001b[38;5;28;01mwith\u001b[39;00m \u001b[38;5;28mopen\u001b[39m(\u001b[38;5;124mf\u001b[39m\u001b[38;5;124m'\u001b[39m\u001b[38;5;124mdata/\u001b[39m\u001b[38;5;132;01m{\u001b[39;00m\u001b[38;5;28mself\u001b[39m\u001b[38;5;241m.\u001b[39mfile_clipped\u001b[38;5;132;01m}\u001b[39;00m\u001b[38;5;124m'\u001b[39m, mode\u001b[38;5;241m=\u001b[39m\u001b[38;5;124m\"\u001b[39m\u001b[38;5;124mrb\u001b[39m\u001b[38;5;124m\"\u001b[39m) \u001b[38;5;28;01mas\u001b[39;00m local_file:\n\u001b[0;32m---> 86\u001b[0m             \u001b[43mremote_file\u001b[49m\u001b[38;5;241;43m.\u001b[39;49m\u001b[43mwrite\u001b[49m\u001b[43m(\u001b[49m\u001b[43mlocal_file\u001b[49m\u001b[38;5;241;43m.\u001b[39;49m\u001b[43mread\u001b[49m\u001b[43m(\u001b[49m\u001b[43m)\u001b[49m\u001b[43m)\u001b[49m\n\u001b[1;32m     88\u001b[0m     \u001b[38;5;28mprint\u001b[39m(\u001b[38;5;124m\"\u001b[39m\u001b[38;5;124mupload done\u001b[39m\u001b[38;5;124m\"\u001b[39m)\n\u001b[1;32m     90\u001b[0m \u001b[38;5;28;01mexcept\u001b[39;00m \u001b[38;5;167;01mException\u001b[39;00m \u001b[38;5;28;01mas\u001b[39;00m e:\n",
      "File \u001b[0;32m~/.pyenv/versions/3.10.6/envs/noc/lib/python3.10/site-packages/fsspec/spec.py:1600\u001b[0m, in \u001b[0;36mAbstractBufferedFile.write\u001b[0;34m(self, data)\u001b[0m\n\u001b[1;32m   1598\u001b[0m \u001b[38;5;28mself\u001b[39m\u001b[38;5;241m.\u001b[39mloc \u001b[38;5;241m+\u001b[39m\u001b[38;5;241m=\u001b[39m out\n\u001b[1;32m   1599\u001b[0m \u001b[38;5;28;01mif\u001b[39;00m \u001b[38;5;28mself\u001b[39m\u001b[38;5;241m.\u001b[39mbuffer\u001b[38;5;241m.\u001b[39mtell() \u001b[38;5;241m>\u001b[39m\u001b[38;5;241m=\u001b[39m \u001b[38;5;28mself\u001b[39m\u001b[38;5;241m.\u001b[39mblocksize:\n\u001b[0;32m-> 1600\u001b[0m     \u001b[38;5;28;43mself\u001b[39;49m\u001b[38;5;241;43m.\u001b[39;49m\u001b[43mflush\u001b[49m\u001b[43m(\u001b[49m\u001b[43m)\u001b[49m\n\u001b[1;32m   1601\u001b[0m \u001b[38;5;28;01mreturn\u001b[39;00m out\n",
      "File \u001b[0;32m~/.pyenv/versions/3.10.6/envs/noc/lib/python3.10/site-packages/fsspec/spec.py:1636\u001b[0m, in \u001b[0;36mAbstractBufferedFile.flush\u001b[0;34m(self, force)\u001b[0m\n\u001b[1;32m   1634\u001b[0m \u001b[38;5;28mself\u001b[39m\u001b[38;5;241m.\u001b[39moffset \u001b[38;5;241m=\u001b[39m \u001b[38;5;241m0\u001b[39m\n\u001b[1;32m   1635\u001b[0m \u001b[38;5;28;01mtry\u001b[39;00m:\n\u001b[0;32m-> 1636\u001b[0m     \u001b[38;5;28;43mself\u001b[39;49m\u001b[38;5;241;43m.\u001b[39;49m\u001b[43m_initiate_upload\u001b[49m\u001b[43m(\u001b[49m\u001b[43m)\u001b[49m\n\u001b[1;32m   1637\u001b[0m \u001b[38;5;28;01mexcept\u001b[39;00m:  \u001b[38;5;66;03m# noqa: E722\u001b[39;00m\n\u001b[1;32m   1638\u001b[0m     \u001b[38;5;28mself\u001b[39m\u001b[38;5;241m.\u001b[39mclosed \u001b[38;5;241m=\u001b[39m \u001b[38;5;28;01mTrue\u001b[39;00m\n",
      "File \u001b[0;32m~/.pyenv/versions/3.10.6/envs/noc/lib/python3.10/site-packages/s3fs/core.py:2083\u001b[0m, in \u001b[0;36mS3File._initiate_upload\u001b[0;34m(self)\u001b[0m\n\u001b[1;32m   2081\u001b[0m logger\u001b[38;5;241m.\u001b[39mdebug(\u001b[38;5;124m\"\u001b[39m\u001b[38;5;124mInitiate upload for \u001b[39m\u001b[38;5;132;01m%s\u001b[39;00m\u001b[38;5;124m\"\u001b[39m \u001b[38;5;241m%\u001b[39m \u001b[38;5;28mself\u001b[39m)\n\u001b[1;32m   2082\u001b[0m \u001b[38;5;28mself\u001b[39m\u001b[38;5;241m.\u001b[39mparts \u001b[38;5;241m=\u001b[39m []\n\u001b[0;32m-> 2083\u001b[0m \u001b[38;5;28mself\u001b[39m\u001b[38;5;241m.\u001b[39mmpu \u001b[38;5;241m=\u001b[39m \u001b[38;5;28;43mself\u001b[39;49m\u001b[38;5;241;43m.\u001b[39;49m\u001b[43m_call_s3\u001b[49m\u001b[43m(\u001b[49m\n\u001b[1;32m   2084\u001b[0m \u001b[43m    \u001b[49m\u001b[38;5;124;43m\"\u001b[39;49m\u001b[38;5;124;43mcreate_multipart_upload\u001b[39;49m\u001b[38;5;124;43m\"\u001b[39;49m\u001b[43m,\u001b[49m\n\u001b[1;32m   2085\u001b[0m \u001b[43m    \u001b[49m\u001b[43mBucket\u001b[49m\u001b[38;5;241;43m=\u001b[39;49m\u001b[38;5;28;43mself\u001b[39;49m\u001b[38;5;241;43m.\u001b[39;49m\u001b[43mbucket\u001b[49m\u001b[43m,\u001b[49m\n\u001b[1;32m   2086\u001b[0m \u001b[43m    \u001b[49m\u001b[43mKey\u001b[49m\u001b[38;5;241;43m=\u001b[39;49m\u001b[38;5;28;43mself\u001b[39;49m\u001b[38;5;241;43m.\u001b[39;49m\u001b[43mkey\u001b[49m\u001b[43m,\u001b[49m\n\u001b[1;32m   2087\u001b[0m \u001b[43m    \u001b[49m\u001b[43mACL\u001b[49m\u001b[38;5;241;43m=\u001b[39;49m\u001b[38;5;28;43mself\u001b[39;49m\u001b[38;5;241;43m.\u001b[39;49m\u001b[43macl\u001b[49m\u001b[43m,\u001b[49m\n\u001b[1;32m   2088\u001b[0m \u001b[43m\u001b[49m\u001b[43m)\u001b[49m\n\u001b[1;32m   2090\u001b[0m \u001b[38;5;28;01mif\u001b[39;00m \u001b[38;5;28mself\u001b[39m\u001b[38;5;241m.\u001b[39mappend_block:\n\u001b[1;32m   2091\u001b[0m     \u001b[38;5;66;03m# use existing data in key when appending,\u001b[39;00m\n\u001b[1;32m   2092\u001b[0m     \u001b[38;5;66;03m# and block is big enough\u001b[39;00m\n\u001b[1;32m   2093\u001b[0m     out \u001b[38;5;241m=\u001b[39m \u001b[38;5;28mself\u001b[39m\u001b[38;5;241m.\u001b[39m_call_s3(\n\u001b[1;32m   2094\u001b[0m         \u001b[38;5;124m\"\u001b[39m\u001b[38;5;124mupload_part_copy\u001b[39m\u001b[38;5;124m\"\u001b[39m,\n\u001b[1;32m   2095\u001b[0m         \u001b[38;5;28mself\u001b[39m\u001b[38;5;241m.\u001b[39ms3_additional_kwargs,\n\u001b[0;32m   (...)\u001b[0m\n\u001b[1;32m   2100\u001b[0m         CopySource\u001b[38;5;241m=\u001b[39m\u001b[38;5;28mself\u001b[39m\u001b[38;5;241m.\u001b[39mpath,\n\u001b[1;32m   2101\u001b[0m     )\n",
      "File \u001b[0;32m~/.pyenv/versions/3.10.6/envs/noc/lib/python3.10/site-packages/s3fs/core.py:2075\u001b[0m, in \u001b[0;36mS3File._call_s3\u001b[0;34m(self, method, *kwarglist, **kwargs)\u001b[0m\n\u001b[1;32m   2074\u001b[0m \u001b[38;5;28;01mdef\u001b[39;00m \u001b[38;5;21m_call_s3\u001b[39m(\u001b[38;5;28mself\u001b[39m, method, \u001b[38;5;241m*\u001b[39mkwarglist, \u001b[38;5;241m*\u001b[39m\u001b[38;5;241m*\u001b[39mkwargs):\n\u001b[0;32m-> 2075\u001b[0m     \u001b[38;5;28;01mreturn\u001b[39;00m \u001b[38;5;28;43mself\u001b[39;49m\u001b[38;5;241;43m.\u001b[39;49m\u001b[43mfs\u001b[49m\u001b[38;5;241;43m.\u001b[39;49m\u001b[43mcall_s3\u001b[49m\u001b[43m(\u001b[49m\u001b[43mmethod\u001b[49m\u001b[43m,\u001b[49m\u001b[43m \u001b[49m\u001b[38;5;28;43mself\u001b[39;49m\u001b[38;5;241;43m.\u001b[39;49m\u001b[43ms3_additional_kwargs\u001b[49m\u001b[43m,\u001b[49m\u001b[43m \u001b[49m\u001b[38;5;241;43m*\u001b[39;49m\u001b[43mkwarglist\u001b[49m\u001b[43m,\u001b[49m\u001b[43m \u001b[49m\u001b[38;5;241;43m*\u001b[39;49m\u001b[38;5;241;43m*\u001b[39;49m\u001b[43mkwargs\u001b[49m\u001b[43m)\u001b[49m\n",
      "File \u001b[0;32m~/.pyenv/versions/3.10.6/envs/noc/lib/python3.10/site-packages/fsspec/asyn.py:114\u001b[0m, in \u001b[0;36msync_wrapper.<locals>.wrapper\u001b[0;34m(*args, **kwargs)\u001b[0m\n\u001b[1;32m    111\u001b[0m \u001b[38;5;129m@functools\u001b[39m\u001b[38;5;241m.\u001b[39mwraps(func)\n\u001b[1;32m    112\u001b[0m \u001b[38;5;28;01mdef\u001b[39;00m \u001b[38;5;21mwrapper\u001b[39m(\u001b[38;5;241m*\u001b[39margs, \u001b[38;5;241m*\u001b[39m\u001b[38;5;241m*\u001b[39mkwargs):\n\u001b[1;32m    113\u001b[0m     \u001b[38;5;28mself\u001b[39m \u001b[38;5;241m=\u001b[39m obj \u001b[38;5;129;01mor\u001b[39;00m args[\u001b[38;5;241m0\u001b[39m]\n\u001b[0;32m--> 114\u001b[0m     \u001b[38;5;28;01mreturn\u001b[39;00m \u001b[43msync\u001b[49m\u001b[43m(\u001b[49m\u001b[38;5;28;43mself\u001b[39;49m\u001b[38;5;241;43m.\u001b[39;49m\u001b[43mloop\u001b[49m\u001b[43m,\u001b[49m\u001b[43m \u001b[49m\u001b[43mfunc\u001b[49m\u001b[43m,\u001b[49m\u001b[43m \u001b[49m\u001b[38;5;241;43m*\u001b[39;49m\u001b[43margs\u001b[49m\u001b[43m,\u001b[49m\u001b[43m \u001b[49m\u001b[38;5;241;43m*\u001b[39;49m\u001b[38;5;241;43m*\u001b[39;49m\u001b[43mkwargs\u001b[49m\u001b[43m)\u001b[49m\n",
      "File \u001b[0;32m~/.pyenv/versions/3.10.6/envs/noc/lib/python3.10/site-packages/fsspec/asyn.py:99\u001b[0m, in \u001b[0;36msync\u001b[0;34m(loop, func, timeout, *args, **kwargs)\u001b[0m\n\u001b[1;32m     97\u001b[0m     \u001b[38;5;28;01mraise\u001b[39;00m FSTimeoutError \u001b[38;5;28;01mfrom\u001b[39;00m \u001b[38;5;21;01mreturn_result\u001b[39;00m\n\u001b[1;32m     98\u001b[0m \u001b[38;5;28;01melif\u001b[39;00m \u001b[38;5;28misinstance\u001b[39m(return_result, \u001b[38;5;167;01mBaseException\u001b[39;00m):\n\u001b[0;32m---> 99\u001b[0m     \u001b[38;5;28;01mraise\u001b[39;00m return_result\n\u001b[1;32m    100\u001b[0m \u001b[38;5;28;01melse\u001b[39;00m:\n\u001b[1;32m    101\u001b[0m     \u001b[38;5;28;01mreturn\u001b[39;00m return_result\n",
      "File \u001b[0;32m~/.pyenv/versions/3.10.6/envs/noc/lib/python3.10/site-packages/fsspec/asyn.py:54\u001b[0m, in \u001b[0;36m_runner\u001b[0;34m(event, coro, result, timeout)\u001b[0m\n\u001b[1;32m     52\u001b[0m     coro \u001b[38;5;241m=\u001b[39m asyncio\u001b[38;5;241m.\u001b[39mwait_for(coro, timeout\u001b[38;5;241m=\u001b[39mtimeout)\n\u001b[1;32m     53\u001b[0m \u001b[38;5;28;01mtry\u001b[39;00m:\n\u001b[0;32m---> 54\u001b[0m     result[\u001b[38;5;241m0\u001b[39m] \u001b[38;5;241m=\u001b[39m \u001b[38;5;28;01mawait\u001b[39;00m coro\n\u001b[1;32m     55\u001b[0m \u001b[38;5;28;01mexcept\u001b[39;00m \u001b[38;5;167;01mException\u001b[39;00m \u001b[38;5;28;01mas\u001b[39;00m ex:\n\u001b[1;32m     56\u001b[0m     result[\u001b[38;5;241m0\u001b[39m] \u001b[38;5;241m=\u001b[39m ex\n",
      "File \u001b[0;32m~/.pyenv/versions/3.10.6/envs/noc/lib/python3.10/site-packages/s3fs/core.py:339\u001b[0m, in \u001b[0;36mS3FileSystem._call_s3\u001b[0;34m(self, method, *akwarglist, **kwargs)\u001b[0m\n\u001b[1;32m    337\u001b[0m logger\u001b[38;5;241m.\u001b[39mdebug(\u001b[38;5;124m\"\u001b[39m\u001b[38;5;124mCALL: \u001b[39m\u001b[38;5;132;01m%s\u001b[39;00m\u001b[38;5;124m - \u001b[39m\u001b[38;5;132;01m%s\u001b[39;00m\u001b[38;5;124m - \u001b[39m\u001b[38;5;132;01m%s\u001b[39;00m\u001b[38;5;124m\"\u001b[39m, method\u001b[38;5;241m.\u001b[39m\u001b[38;5;18m__name__\u001b[39m, akwarglist, kw2)\n\u001b[1;32m    338\u001b[0m additional_kwargs \u001b[38;5;241m=\u001b[39m \u001b[38;5;28mself\u001b[39m\u001b[38;5;241m.\u001b[39m_get_s3_method_kwargs(method, \u001b[38;5;241m*\u001b[39makwarglist, \u001b[38;5;241m*\u001b[39m\u001b[38;5;241m*\u001b[39mkwargs)\n\u001b[0;32m--> 339\u001b[0m \u001b[38;5;28;01mreturn\u001b[39;00m \u001b[38;5;28;01mawait\u001b[39;00m _error_wrapper(\n\u001b[1;32m    340\u001b[0m     method, kwargs\u001b[38;5;241m=\u001b[39madditional_kwargs, retries\u001b[38;5;241m=\u001b[39m\u001b[38;5;28mself\u001b[39m\u001b[38;5;241m.\u001b[39mretries\n\u001b[1;32m    341\u001b[0m )\n",
      "File \u001b[0;32m~/.pyenv/versions/3.10.6/envs/noc/lib/python3.10/site-packages/s3fs/core.py:139\u001b[0m, in \u001b[0;36m_error_wrapper\u001b[0;34m(func, args, kwargs, retries)\u001b[0m\n\u001b[1;32m    137\u001b[0m         err \u001b[38;5;241m=\u001b[39m e\n\u001b[1;32m    138\u001b[0m err \u001b[38;5;241m=\u001b[39m translate_boto_error(err)\n\u001b[0;32m--> 139\u001b[0m \u001b[38;5;28;01mraise\u001b[39;00m err\n",
      "File \u001b[0;32m~/.pyenv/versions/3.10.6/envs/noc/lib/python3.10/site-packages/s3fs/core.py:112\u001b[0m, in \u001b[0;36m_error_wrapper\u001b[0;34m(func, args, kwargs, retries)\u001b[0m\n\u001b[1;32m    110\u001b[0m \u001b[38;5;28;01mfor\u001b[39;00m i \u001b[38;5;129;01min\u001b[39;00m \u001b[38;5;28mrange\u001b[39m(retries):\n\u001b[1;32m    111\u001b[0m     \u001b[38;5;28;01mtry\u001b[39;00m:\n\u001b[0;32m--> 112\u001b[0m         \u001b[38;5;28;01mreturn\u001b[39;00m \u001b[38;5;28;01mawait\u001b[39;00m func(\u001b[38;5;241m*\u001b[39margs, \u001b[38;5;241m*\u001b[39m\u001b[38;5;241m*\u001b[39mkwargs)\n\u001b[1;32m    113\u001b[0m     \u001b[38;5;28;01mexcept\u001b[39;00m S3_RETRYABLE_ERRORS \u001b[38;5;28;01mas\u001b[39;00m e:\n\u001b[1;32m    114\u001b[0m         err \u001b[38;5;241m=\u001b[39m e\n",
      "File \u001b[0;32m~/.pyenv/versions/3.10.6/envs/noc/lib/python3.10/site-packages/aiobotocore/client.py:341\u001b[0m, in \u001b[0;36mAioBaseClient._make_api_call\u001b[0;34m(self, operation_name, api_params)\u001b[0m\n\u001b[1;32m    339\u001b[0m \u001b[38;5;28;01melse\u001b[39;00m:\n\u001b[1;32m    340\u001b[0m     apply_request_checksum(request_dict)\n\u001b[0;32m--> 341\u001b[0m     http, parsed_response \u001b[38;5;241m=\u001b[39m \u001b[38;5;28;01mawait\u001b[39;00m \u001b[38;5;28mself\u001b[39m\u001b[38;5;241m.\u001b[39m_make_request(\n\u001b[1;32m    342\u001b[0m         operation_model, request_dict, request_context\n\u001b[1;32m    343\u001b[0m     )\n\u001b[1;32m    345\u001b[0m \u001b[38;5;28;01mawait\u001b[39;00m \u001b[38;5;28mself\u001b[39m\u001b[38;5;241m.\u001b[39mmeta\u001b[38;5;241m.\u001b[39mevents\u001b[38;5;241m.\u001b[39memit(\n\u001b[1;32m    346\u001b[0m     \u001b[38;5;124m'\u001b[39m\u001b[38;5;124mafter-call.\u001b[39m\u001b[38;5;132;01m{service_id}\u001b[39;00m\u001b[38;5;124m.\u001b[39m\u001b[38;5;132;01m{operation_name}\u001b[39;00m\u001b[38;5;124m'\u001b[39m\u001b[38;5;241m.\u001b[39mformat(\n\u001b[1;32m    347\u001b[0m         service_id\u001b[38;5;241m=\u001b[39mservice_id, operation_name\u001b[38;5;241m=\u001b[39moperation_name\n\u001b[0;32m   (...)\u001b[0m\n\u001b[1;32m    352\u001b[0m     context\u001b[38;5;241m=\u001b[39mrequest_context,\n\u001b[1;32m    353\u001b[0m )\n\u001b[1;32m    355\u001b[0m \u001b[38;5;28;01mif\u001b[39;00m http\u001b[38;5;241m.\u001b[39mstatus_code \u001b[38;5;241m>\u001b[39m\u001b[38;5;241m=\u001b[39m \u001b[38;5;241m300\u001b[39m:\n",
      "File \u001b[0;32m~/.pyenv/versions/3.10.6/envs/noc/lib/python3.10/site-packages/aiobotocore/client.py:366\u001b[0m, in \u001b[0;36mAioBaseClient._make_request\u001b[0;34m(self, operation_model, request_dict, request_context)\u001b[0m\n\u001b[1;32m    362\u001b[0m \u001b[38;5;28;01masync\u001b[39;00m \u001b[38;5;28;01mdef\u001b[39;00m \u001b[38;5;21m_make_request\u001b[39m(\n\u001b[1;32m    363\u001b[0m     \u001b[38;5;28mself\u001b[39m, operation_model, request_dict, request_context\n\u001b[1;32m    364\u001b[0m ):\n\u001b[1;32m    365\u001b[0m     \u001b[38;5;28;01mtry\u001b[39;00m:\n\u001b[0;32m--> 366\u001b[0m         \u001b[38;5;28;01mreturn\u001b[39;00m \u001b[38;5;28;01mawait\u001b[39;00m \u001b[38;5;28mself\u001b[39m\u001b[38;5;241m.\u001b[39m_endpoint\u001b[38;5;241m.\u001b[39mmake_request(\n\u001b[1;32m    367\u001b[0m             operation_model, request_dict\n\u001b[1;32m    368\u001b[0m         )\n\u001b[1;32m    369\u001b[0m     \u001b[38;5;28;01mexcept\u001b[39;00m \u001b[38;5;167;01mException\u001b[39;00m \u001b[38;5;28;01mas\u001b[39;00m e:\n\u001b[1;32m    370\u001b[0m         \u001b[38;5;28;01mawait\u001b[39;00m \u001b[38;5;28mself\u001b[39m\u001b[38;5;241m.\u001b[39mmeta\u001b[38;5;241m.\u001b[39mevents\u001b[38;5;241m.\u001b[39memit(\n\u001b[1;32m    371\u001b[0m             \u001b[38;5;124m'\u001b[39m\u001b[38;5;124mafter-call-error.\u001b[39m\u001b[38;5;132;01m{service_id}\u001b[39;00m\u001b[38;5;124m.\u001b[39m\u001b[38;5;132;01m{operation_name}\u001b[39;00m\u001b[38;5;124m'\u001b[39m\u001b[38;5;241m.\u001b[39mformat(\n\u001b[1;32m    372\u001b[0m                 service_id\u001b[38;5;241m=\u001b[39m\u001b[38;5;28mself\u001b[39m\u001b[38;5;241m.\u001b[39m_service_model\u001b[38;5;241m.\u001b[39mservice_id\u001b[38;5;241m.\u001b[39mhyphenize(),\n\u001b[0;32m   (...)\u001b[0m\n\u001b[1;32m    376\u001b[0m             context\u001b[38;5;241m=\u001b[39mrequest_context,\n\u001b[1;32m    377\u001b[0m         )\n",
      "File \u001b[0;32m~/.pyenv/versions/3.10.6/envs/noc/lib/python3.10/site-packages/aiobotocore/endpoint.py:96\u001b[0m, in \u001b[0;36mAioEndpoint._send_request\u001b[0;34m(self, request_dict, operation_model)\u001b[0m\n\u001b[1;32m     94\u001b[0m context \u001b[38;5;241m=\u001b[39m request_dict[\u001b[38;5;124m'\u001b[39m\u001b[38;5;124mcontext\u001b[39m\u001b[38;5;124m'\u001b[39m]\n\u001b[1;32m     95\u001b[0m \u001b[38;5;28mself\u001b[39m\u001b[38;5;241m.\u001b[39m_update_retries_context(context, attempts)\n\u001b[0;32m---> 96\u001b[0m request \u001b[38;5;241m=\u001b[39m \u001b[38;5;28;01mawait\u001b[39;00m \u001b[38;5;28mself\u001b[39m\u001b[38;5;241m.\u001b[39mcreate_request(request_dict, operation_model)\n\u001b[1;32m     97\u001b[0m success_response, exception \u001b[38;5;241m=\u001b[39m \u001b[38;5;28;01mawait\u001b[39;00m \u001b[38;5;28mself\u001b[39m\u001b[38;5;241m.\u001b[39m_get_response(\n\u001b[1;32m     98\u001b[0m     request, operation_model, context\n\u001b[1;32m     99\u001b[0m )\n\u001b[1;32m    100\u001b[0m \u001b[38;5;28;01mwhile\u001b[39;00m \u001b[38;5;28;01mawait\u001b[39;00m \u001b[38;5;28mself\u001b[39m\u001b[38;5;241m.\u001b[39m_needs_retry(\n\u001b[1;32m    101\u001b[0m     attempts,\n\u001b[1;32m    102\u001b[0m     operation_model,\n\u001b[0;32m   (...)\u001b[0m\n\u001b[1;32m    105\u001b[0m     exception,\n\u001b[1;32m    106\u001b[0m ):\n",
      "File \u001b[0;32m~/.pyenv/versions/3.10.6/envs/noc/lib/python3.10/site-packages/aiobotocore/endpoint.py:84\u001b[0m, in \u001b[0;36mAioEndpoint.create_request\u001b[0;34m(self, params, operation_model)\u001b[0m\n\u001b[1;32m     80\u001b[0m     service_id \u001b[38;5;241m=\u001b[39m operation_model\u001b[38;5;241m.\u001b[39mservice_model\u001b[38;5;241m.\u001b[39mservice_id\u001b[38;5;241m.\u001b[39mhyphenize()\n\u001b[1;32m     81\u001b[0m     event_name \u001b[38;5;241m=\u001b[39m \u001b[38;5;124m'\u001b[39m\u001b[38;5;124mrequest-created.\u001b[39m\u001b[38;5;132;01m{service_id}\u001b[39;00m\u001b[38;5;124m.\u001b[39m\u001b[38;5;132;01m{op_name}\u001b[39;00m\u001b[38;5;124m'\u001b[39m\u001b[38;5;241m.\u001b[39mformat(\n\u001b[1;32m     82\u001b[0m         service_id\u001b[38;5;241m=\u001b[39mservice_id, op_name\u001b[38;5;241m=\u001b[39moperation_model\u001b[38;5;241m.\u001b[39mname\n\u001b[1;32m     83\u001b[0m     )\n\u001b[0;32m---> 84\u001b[0m     \u001b[38;5;28;01mawait\u001b[39;00m \u001b[38;5;28mself\u001b[39m\u001b[38;5;241m.\u001b[39m_event_emitter\u001b[38;5;241m.\u001b[39memit(\n\u001b[1;32m     85\u001b[0m         event_name,\n\u001b[1;32m     86\u001b[0m         request\u001b[38;5;241m=\u001b[39mrequest,\n\u001b[1;32m     87\u001b[0m         operation_name\u001b[38;5;241m=\u001b[39moperation_model\u001b[38;5;241m.\u001b[39mname,\n\u001b[1;32m     88\u001b[0m     )\n\u001b[1;32m     89\u001b[0m prepared_request \u001b[38;5;241m=\u001b[39m \u001b[38;5;28mself\u001b[39m\u001b[38;5;241m.\u001b[39mprepare_request(request)\n\u001b[1;32m     90\u001b[0m \u001b[38;5;28;01mreturn\u001b[39;00m prepared_request\n",
      "File \u001b[0;32m~/.pyenv/versions/3.10.6/envs/noc/lib/python3.10/site-packages/aiobotocore/hooks.py:66\u001b[0m, in \u001b[0;36mAioHierarchicalEmitter._emit\u001b[0;34m(self, event_name, kwargs, stop_on_response)\u001b[0m\n\u001b[1;32m     63\u001b[0m logger\u001b[38;5;241m.\u001b[39mdebug(\u001b[38;5;124m'\u001b[39m\u001b[38;5;124mEvent \u001b[39m\u001b[38;5;132;01m%s\u001b[39;00m\u001b[38;5;124m: calling handler \u001b[39m\u001b[38;5;132;01m%s\u001b[39;00m\u001b[38;5;124m'\u001b[39m, event_name, handler)\n\u001b[1;32m     65\u001b[0m \u001b[38;5;66;03m# Await the handler if its a coroutine.\u001b[39;00m\n\u001b[0;32m---> 66\u001b[0m response \u001b[38;5;241m=\u001b[39m \u001b[38;5;28;01mawait\u001b[39;00m resolve_awaitable(handler(\u001b[38;5;241m*\u001b[39m\u001b[38;5;241m*\u001b[39mkwargs))\n\u001b[1;32m     67\u001b[0m responses\u001b[38;5;241m.\u001b[39mappend((handler, response))\n\u001b[1;32m     68\u001b[0m \u001b[38;5;28;01mif\u001b[39;00m stop_on_response \u001b[38;5;129;01mand\u001b[39;00m response \u001b[38;5;129;01mis\u001b[39;00m \u001b[38;5;129;01mnot\u001b[39;00m \u001b[38;5;28;01mNone\u001b[39;00m:\n",
      "File \u001b[0;32m~/.pyenv/versions/3.10.6/envs/noc/lib/python3.10/site-packages/aiobotocore/_helpers.py:15\u001b[0m, in \u001b[0;36mresolve_awaitable\u001b[0;34m(obj)\u001b[0m\n\u001b[1;32m     13\u001b[0m \u001b[38;5;28;01masync\u001b[39;00m \u001b[38;5;28;01mdef\u001b[39;00m \u001b[38;5;21mresolve_awaitable\u001b[39m(obj):\n\u001b[1;32m     14\u001b[0m     \u001b[38;5;28;01mif\u001b[39;00m inspect\u001b[38;5;241m.\u001b[39misawaitable(obj):\n\u001b[0;32m---> 15\u001b[0m         \u001b[38;5;28;01mreturn\u001b[39;00m \u001b[38;5;28;01mawait\u001b[39;00m obj\n\u001b[1;32m     17\u001b[0m     \u001b[38;5;28;01mreturn\u001b[39;00m obj\n",
      "File \u001b[0;32m~/.pyenv/versions/3.10.6/envs/noc/lib/python3.10/site-packages/aiobotocore/signers.py:23\u001b[0m, in \u001b[0;36mAioRequestSigner.handler\u001b[0;34m(self, operation_name, request, **kwargs)\u001b[0m\n\u001b[1;32m     18\u001b[0m \u001b[38;5;28;01masync\u001b[39;00m \u001b[38;5;28;01mdef\u001b[39;00m \u001b[38;5;21mhandler\u001b[39m(\u001b[38;5;28mself\u001b[39m, operation_name\u001b[38;5;241m=\u001b[39m\u001b[38;5;28;01mNone\u001b[39;00m, request\u001b[38;5;241m=\u001b[39m\u001b[38;5;28;01mNone\u001b[39;00m, \u001b[38;5;241m*\u001b[39m\u001b[38;5;241m*\u001b[39mkwargs):\n\u001b[1;32m     19\u001b[0m     \u001b[38;5;66;03m# This is typically hooked up to the \"request-created\" event\u001b[39;00m\n\u001b[1;32m     20\u001b[0m     \u001b[38;5;66;03m# from a client's event emitter.  When a new request is created\u001b[39;00m\n\u001b[1;32m     21\u001b[0m     \u001b[38;5;66;03m# this method is invoked to sign the request.\u001b[39;00m\n\u001b[1;32m     22\u001b[0m     \u001b[38;5;66;03m# Don't call this method directly.\u001b[39;00m\n\u001b[0;32m---> 23\u001b[0m     \u001b[38;5;28;01mreturn\u001b[39;00m \u001b[38;5;28;01mawait\u001b[39;00m \u001b[38;5;28mself\u001b[39m\u001b[38;5;241m.\u001b[39msign(operation_name, request)\n",
      "File \u001b[0;32m~/.pyenv/versions/3.10.6/envs/noc/lib/python3.10/site-packages/aiobotocore/signers.py:81\u001b[0m, in \u001b[0;36mAioRequestSigner.sign\u001b[0;34m(self, operation_name, request, region_name, signing_type, expires_in, signing_name)\u001b[0m\n\u001b[1;32m     78\u001b[0m     \u001b[38;5;28;01melse\u001b[39;00m:\n\u001b[1;32m     79\u001b[0m         \u001b[38;5;28;01mraise\u001b[39;00m e\n\u001b[0;32m---> 81\u001b[0m \u001b[43mauth\u001b[49m\u001b[38;5;241;43m.\u001b[39;49m\u001b[43madd_auth\u001b[49m\u001b[43m(\u001b[49m\u001b[43mrequest\u001b[49m\u001b[43m)\u001b[49m\n",
      "File \u001b[0;32m~/.pyenv/versions/3.10.6/envs/noc/lib/python3.10/site-packages/botocore/auth.py:407\u001b[0m, in \u001b[0;36mSigV4Auth.add_auth\u001b[0;34m(self, request)\u001b[0m\n\u001b[1;32m    405\u001b[0m \u001b[38;5;28;01mdef\u001b[39;00m \u001b[38;5;21madd_auth\u001b[39m(\u001b[38;5;28mself\u001b[39m, request):\n\u001b[1;32m    406\u001b[0m     \u001b[38;5;28;01mif\u001b[39;00m \u001b[38;5;28mself\u001b[39m\u001b[38;5;241m.\u001b[39mcredentials \u001b[38;5;129;01mis\u001b[39;00m \u001b[38;5;28;01mNone\u001b[39;00m:\n\u001b[0;32m--> 407\u001b[0m         \u001b[38;5;28;01mraise\u001b[39;00m NoCredentialsError()\n\u001b[1;32m    408\u001b[0m     datetime_now \u001b[38;5;241m=\u001b[39m datetime\u001b[38;5;241m.\u001b[39mdatetime\u001b[38;5;241m.\u001b[39mutcnow()\n\u001b[1;32m    409\u001b[0m     request\u001b[38;5;241m.\u001b[39mcontext[\u001b[38;5;124m'\u001b[39m\u001b[38;5;124mtimestamp\u001b[39m\u001b[38;5;124m'\u001b[39m] \u001b[38;5;241m=\u001b[39m datetime_now\u001b[38;5;241m.\u001b[39mstrftime(SIGV4_TIMESTAMP)\n",
      "\u001b[0;31mNoCredentialsError\u001b[0m: Unable to locate credentials"
     ]
    }
   ],
   "source": [
    "p.upload_jasmine()"
   ]
  },
  {
   "cell_type": "code",
   "execution_count": 18,
   "id": "cf588510",
   "metadata": {},
   "outputs": [],
   "source": [
    "with open(p.output) as f:\n",
    "    gj = geojson.load(f)"
   ]
  },
  {
   "cell_type": "code",
   "execution_count": 22,
   "id": "dd5640b1",
   "metadata": {},
   "outputs": [
    {
     "data": {
      "text/plain": [
       "{'euseamap_r': 'Atlanto-Arctic',\n",
       " 'shape_leng': 363108002.913,\n",
       " 'shape_area': 40035564441600}"
      ]
     },
     "execution_count": 22,
     "metadata": {},
     "output_type": "execute_result"
    }
   ],
   "source": [
    "gj['features'][0]['properties']"
   ]
  },
  {
   "cell_type": "code",
   "execution_count": null,
   "id": "5b6b5c62",
   "metadata": {},
   "outputs": [],
   "source": [
    "class ProcessGeoJson():\n"
   ]
  },
  {
   "cell_type": "code",
   "execution_count": 127,
   "id": "d9c229d4",
   "metadata": {},
   "outputs": [],
   "source": [
    "url_file = \"https://ows.emodnet-seabedhabitats.eu/geoserver/emodnet_open/wfs?SERVICE=WFS&request=getFeature&VERSION=2.0.0&typeName=emodnet_open:eusm2019_regions&outputFormat=application/json&bbox=-1413232,6288190,-365497,6914553\"\n",
    "r = requests.get(url_file)"
   ]
  },
  {
   "cell_type": "code",
   "execution_count": 128,
   "id": "38edad24",
   "metadata": {},
   "outputs": [],
   "source": [
    "with open('haigfras_seabed_2019.geojson', 'w') as f:\n",
    "   dump(r.json(), f)\n",
    "with open('data/haigfras.geojson') as f:\n",
    "    gj = geojson.load(f)"
   ]
  },
  {
   "cell_type": "code",
   "execution_count": 6,
   "id": "71e4732c",
   "metadata": {},
   "outputs": [
    {
     "data": {
      "text/plain": [
       "'/home/tobfer/code/noc-gitlab/imfe-pilot/scripts/files_to_geojson/notebooks'"
      ]
     },
     "execution_count": 6,
     "metadata": {},
     "output_type": "execute_result"
    }
   ],
   "source": []
  },
  {
   "cell_type": "code",
   "execution_count": 9,
   "id": "a56ac34f",
   "metadata": {},
   "outputs": [],
   "source": [
    "df = geopandas.read_file('../data/haigfras_biozones.geojson')"
   ]
  },
  {
   "cell_type": "code",
   "execution_count": 13,
   "id": "e88b3039",
   "metadata": {},
   "outputs": [
    {
     "data": {
      "text/plain": [
       "array(['Atlantic lower abyssal', 'Atlantic mid bathyal',\n",
       "       'Atlantic upper abyssal', 'Atlantic lower bathyal',\n",
       "       'Atlantic mid abyssal', 'Atlantic upper bathyal',\n",
       "       'Atlanto-Mediterranean mid bathyal', 'Deep circalittoral',\n",
       "       'Infralittoral', 'Shallow circalittoral'], dtype=object)"
      ]
     },
     "execution_count": 13,
     "metadata": {},
     "output_type": "execute_result"
    }
   ],
   "source": [
    "df[.biozone.unique()"
   ]
  },
  {
   "cell_type": "code",
   "execution_count": null,
   "id": "42bf43b3",
   "metadata": {},
   "outputs": [],
   "source": [
    "gj.feature"
   ]
  },
  {
   "cell_type": "code",
   "execution_count": 135,
   "id": "ac83826f",
   "metadata": {},
   "outputs": [
    {
     "data": {
      "text/plain": [
       "6"
      ]
     },
     "execution_count": 135,
     "metadata": {},
     "output_type": "execute_result"
    }
   ],
   "source": [
    "len(gj['features'][0])"
   ]
  },
  {
   "cell_type": "code",
   "execution_count": 132,
   "id": "5d20b91a",
   "metadata": {},
   "outputs": [
    {
     "ename": "DriverError",
     "evalue": "Failed to read GeoJSON data",
     "output_type": "error",
     "traceback": [
      "\u001b[0;31m---------------------------------------------------------------------------\u001b[0m",
      "\u001b[0;31mCPLE_OpenFailedError\u001b[0m                      Traceback (most recent call last)",
      "File \u001b[0;32mfiona/ogrext.pyx:136\u001b[0m, in \u001b[0;36mfiona.ogrext.gdal_open_vector\u001b[0;34m()\u001b[0m\n",
      "File \u001b[0;32mfiona/_err.pyx:291\u001b[0m, in \u001b[0;36mfiona._err.exc_wrap_pointer\u001b[0;34m()\u001b[0m\n",
      "\u001b[0;31mCPLE_OpenFailedError\u001b[0m: Failed to read GeoJSON data",
      "\nDuring handling of the above exception, another exception occurred:\n",
      "\u001b[0;31mDriverError\u001b[0m                               Traceback (most recent call last)",
      "Cell \u001b[0;32mIn [132], line 1\u001b[0m\n\u001b[0;32m----> 1\u001b[0m df \u001b[38;5;241m=\u001b[39m \u001b[43mgeopandas\u001b[49m\u001b[38;5;241;43m.\u001b[39;49m\u001b[43mread_file\u001b[49m\u001b[43m(\u001b[49m\u001b[38;5;124;43m'\u001b[39;49m\u001b[38;5;124;43mhaigfras_seabed_2019.geojson\u001b[39;49m\u001b[38;5;124;43m'\u001b[39;49m\u001b[43m)\u001b[49m\n\u001b[1;32m      2\u001b[0m new_df \u001b[38;5;241m=\u001b[39m geopandas\u001b[38;5;241m.\u001b[39mclip(gdf\u001b[38;5;241m=\u001b[39mdf, mask\u001b[38;5;241m=\u001b[39m[\u001b[38;5;241m-\u001b[39m\u001b[38;5;241m1413232\u001b[39m,\u001b[38;5;241m6288190\u001b[39m,\u001b[38;5;241m-\u001b[39m\u001b[38;5;241m365497\u001b[39m,\u001b[38;5;241m6914553\u001b[39m], keep_geom_type\u001b[38;5;241m=\u001b[39m\u001b[38;5;28;01mFalse\u001b[39;00m)\n",
      "File \u001b[0;32m~/.pyenv/versions/3.10.6/envs/noc/lib/python3.10/site-packages/geopandas/io/file.py:259\u001b[0m, in \u001b[0;36m_read_file\u001b[0;34m(filename, bbox, mask, rows, engine, **kwargs)\u001b[0m\n\u001b[1;32m    256\u001b[0m     path_or_bytes \u001b[38;5;241m=\u001b[39m filename\n\u001b[1;32m    258\u001b[0m \u001b[38;5;28;01mif\u001b[39;00m engine \u001b[38;5;241m==\u001b[39m \u001b[38;5;124m\"\u001b[39m\u001b[38;5;124mfiona\u001b[39m\u001b[38;5;124m\"\u001b[39m:\n\u001b[0;32m--> 259\u001b[0m     \u001b[38;5;28;01mreturn\u001b[39;00m \u001b[43m_read_file_fiona\u001b[49m\u001b[43m(\u001b[49m\n\u001b[1;32m    260\u001b[0m \u001b[43m        \u001b[49m\u001b[43mpath_or_bytes\u001b[49m\u001b[43m,\u001b[49m\u001b[43m \u001b[49m\u001b[43mfrom_bytes\u001b[49m\u001b[43m,\u001b[49m\u001b[43m \u001b[49m\u001b[43mbbox\u001b[49m\u001b[38;5;241;43m=\u001b[39;49m\u001b[43mbbox\u001b[49m\u001b[43m,\u001b[49m\u001b[43m \u001b[49m\u001b[43mmask\u001b[49m\u001b[38;5;241;43m=\u001b[39;49m\u001b[43mmask\u001b[49m\u001b[43m,\u001b[49m\u001b[43m \u001b[49m\u001b[43mrows\u001b[49m\u001b[38;5;241;43m=\u001b[39;49m\u001b[43mrows\u001b[49m\u001b[43m,\u001b[49m\u001b[43m \u001b[49m\u001b[38;5;241;43m*\u001b[39;49m\u001b[38;5;241;43m*\u001b[39;49m\u001b[43mkwargs\u001b[49m\n\u001b[1;32m    261\u001b[0m \u001b[43m    \u001b[49m\u001b[43m)\u001b[49m\n\u001b[1;32m    262\u001b[0m \u001b[38;5;28;01melif\u001b[39;00m engine \u001b[38;5;241m==\u001b[39m \u001b[38;5;124m\"\u001b[39m\u001b[38;5;124mpyogrio\u001b[39m\u001b[38;5;124m\"\u001b[39m:\n\u001b[1;32m    263\u001b[0m     \u001b[38;5;28;01mreturn\u001b[39;00m _read_file_pyogrio(\n\u001b[1;32m    264\u001b[0m         path_or_bytes, bbox\u001b[38;5;241m=\u001b[39mbbox, mask\u001b[38;5;241m=\u001b[39mmask, rows\u001b[38;5;241m=\u001b[39mrows, \u001b[38;5;241m*\u001b[39m\u001b[38;5;241m*\u001b[39mkwargs\n\u001b[1;32m    265\u001b[0m     )\n",
      "File \u001b[0;32m~/.pyenv/versions/3.10.6/envs/noc/lib/python3.10/site-packages/geopandas/io/file.py:303\u001b[0m, in \u001b[0;36m_read_file_fiona\u001b[0;34m(path_or_bytes, from_bytes, bbox, mask, rows, where, **kwargs)\u001b[0m\n\u001b[1;32m    300\u001b[0m     reader \u001b[38;5;241m=\u001b[39m fiona\u001b[38;5;241m.\u001b[39mopen\n\u001b[1;32m    302\u001b[0m \u001b[38;5;28;01mwith\u001b[39;00m fiona_env():\n\u001b[0;32m--> 303\u001b[0m     \u001b[38;5;28;01mwith\u001b[39;00m \u001b[43mreader\u001b[49m\u001b[43m(\u001b[49m\u001b[43mpath_or_bytes\u001b[49m\u001b[43m,\u001b[49m\u001b[43m \u001b[49m\u001b[38;5;241;43m*\u001b[39;49m\u001b[38;5;241;43m*\u001b[39;49m\u001b[43mkwargs\u001b[49m\u001b[43m)\u001b[49m \u001b[38;5;28;01mas\u001b[39;00m features:\n\u001b[1;32m    304\u001b[0m         crs \u001b[38;5;241m=\u001b[39m features\u001b[38;5;241m.\u001b[39mcrs_wkt\n\u001b[1;32m    305\u001b[0m         \u001b[38;5;66;03m# attempt to get EPSG code\u001b[39;00m\n",
      "File \u001b[0;32m~/.pyenv/versions/3.10.6/envs/noc/lib/python3.10/site-packages/fiona/env.py:457\u001b[0m, in \u001b[0;36mensure_env_with_credentials.<locals>.wrapper\u001b[0;34m(*args, **kwds)\u001b[0m\n\u001b[1;32m    454\u001b[0m     session \u001b[38;5;241m=\u001b[39m DummySession()\n\u001b[1;32m    456\u001b[0m \u001b[38;5;28;01mwith\u001b[39;00m env_ctor(session\u001b[38;5;241m=\u001b[39msession):\n\u001b[0;32m--> 457\u001b[0m     \u001b[38;5;28;01mreturn\u001b[39;00m \u001b[43mf\u001b[49m\u001b[43m(\u001b[49m\u001b[38;5;241;43m*\u001b[39;49m\u001b[43margs\u001b[49m\u001b[43m,\u001b[49m\u001b[43m \u001b[49m\u001b[38;5;241;43m*\u001b[39;49m\u001b[38;5;241;43m*\u001b[39;49m\u001b[43mkwds\u001b[49m\u001b[43m)\u001b[49m\n",
      "File \u001b[0;32m~/.pyenv/versions/3.10.6/envs/noc/lib/python3.10/site-packages/fiona/__init__.py:336\u001b[0m, in \u001b[0;36mopen\u001b[0;34m(fp, mode, driver, schema, crs, encoding, layer, vfs, enabled_drivers, crs_wkt, allow_unsupported_drivers, **kwargs)\u001b[0m\n\u001b[1;32m    333\u001b[0m     path \u001b[38;5;241m=\u001b[39m parse_path(fp)\n\u001b[1;32m    335\u001b[0m \u001b[38;5;28;01mif\u001b[39;00m mode \u001b[38;5;129;01min\u001b[39;00m (\u001b[38;5;124m\"\u001b[39m\u001b[38;5;124ma\u001b[39m\u001b[38;5;124m\"\u001b[39m, \u001b[38;5;124m\"\u001b[39m\u001b[38;5;124mr\u001b[39m\u001b[38;5;124m\"\u001b[39m):\n\u001b[0;32m--> 336\u001b[0m     colxn \u001b[38;5;241m=\u001b[39m \u001b[43mCollection\u001b[49m\u001b[43m(\u001b[49m\n\u001b[1;32m    337\u001b[0m \u001b[43m        \u001b[49m\u001b[43mpath\u001b[49m\u001b[43m,\u001b[49m\n\u001b[1;32m    338\u001b[0m \u001b[43m        \u001b[49m\u001b[43mmode\u001b[49m\u001b[43m,\u001b[49m\n\u001b[1;32m    339\u001b[0m \u001b[43m        \u001b[49m\u001b[43mdriver\u001b[49m\u001b[38;5;241;43m=\u001b[39;49m\u001b[43mdriver\u001b[49m\u001b[43m,\u001b[49m\n\u001b[1;32m    340\u001b[0m \u001b[43m        \u001b[49m\u001b[43mencoding\u001b[49m\u001b[38;5;241;43m=\u001b[39;49m\u001b[43mencoding\u001b[49m\u001b[43m,\u001b[49m\n\u001b[1;32m    341\u001b[0m \u001b[43m        \u001b[49m\u001b[43mlayer\u001b[49m\u001b[38;5;241;43m=\u001b[39;49m\u001b[43mlayer\u001b[49m\u001b[43m,\u001b[49m\n\u001b[1;32m    342\u001b[0m \u001b[43m        \u001b[49m\u001b[43menabled_drivers\u001b[49m\u001b[38;5;241;43m=\u001b[39;49m\u001b[43menabled_drivers\u001b[49m\u001b[43m,\u001b[49m\n\u001b[1;32m    343\u001b[0m \u001b[43m        \u001b[49m\u001b[43mallow_unsupported_drivers\u001b[49m\u001b[38;5;241;43m=\u001b[39;49m\u001b[43mallow_unsupported_drivers\u001b[49m\u001b[43m,\u001b[49m\n\u001b[1;32m    344\u001b[0m \u001b[43m        \u001b[49m\u001b[38;5;241;43m*\u001b[39;49m\u001b[38;5;241;43m*\u001b[39;49m\u001b[43mkwargs\u001b[49m\n\u001b[1;32m    345\u001b[0m \u001b[43m    \u001b[49m\u001b[43m)\u001b[49m\n\u001b[1;32m    346\u001b[0m \u001b[38;5;28;01melif\u001b[39;00m mode \u001b[38;5;241m==\u001b[39m \u001b[38;5;124m\"\u001b[39m\u001b[38;5;124mw\u001b[39m\u001b[38;5;124m\"\u001b[39m:\n\u001b[1;32m    347\u001b[0m     colxn \u001b[38;5;241m=\u001b[39m Collection(\n\u001b[1;32m    348\u001b[0m         path,\n\u001b[1;32m    349\u001b[0m         mode,\n\u001b[0;32m   (...)\u001b[0m\n\u001b[1;32m    358\u001b[0m         \u001b[38;5;241m*\u001b[39m\u001b[38;5;241m*\u001b[39mkwargs\n\u001b[1;32m    359\u001b[0m     )\n",
      "File \u001b[0;32m~/.pyenv/versions/3.10.6/envs/noc/lib/python3.10/site-packages/fiona/collection.py:234\u001b[0m, in \u001b[0;36mCollection.__init__\u001b[0;34m(self, path, mode, driver, schema, crs, encoding, layer, vsi, archive, enabled_drivers, crs_wkt, ignore_fields, ignore_geometry, include_fields, wkt_version, allow_unsupported_drivers, **kwargs)\u001b[0m\n\u001b[1;32m    232\u001b[0m \u001b[38;5;28;01mif\u001b[39;00m \u001b[38;5;28mself\u001b[39m\u001b[38;5;241m.\u001b[39mmode \u001b[38;5;241m==\u001b[39m \u001b[38;5;124m\"\u001b[39m\u001b[38;5;124mr\u001b[39m\u001b[38;5;124m\"\u001b[39m:\n\u001b[1;32m    233\u001b[0m     \u001b[38;5;28mself\u001b[39m\u001b[38;5;241m.\u001b[39msession \u001b[38;5;241m=\u001b[39m Session()\n\u001b[0;32m--> 234\u001b[0m     \u001b[38;5;28;43mself\u001b[39;49m\u001b[38;5;241;43m.\u001b[39;49m\u001b[43msession\u001b[49m\u001b[38;5;241;43m.\u001b[39;49m\u001b[43mstart\u001b[49m\u001b[43m(\u001b[49m\u001b[38;5;28;43mself\u001b[39;49m\u001b[43m,\u001b[49m\u001b[43m \u001b[49m\u001b[38;5;241;43m*\u001b[39;49m\u001b[38;5;241;43m*\u001b[39;49m\u001b[43mkwargs\u001b[49m\u001b[43m)\u001b[49m\n\u001b[1;32m    235\u001b[0m \u001b[38;5;28;01melif\u001b[39;00m \u001b[38;5;28mself\u001b[39m\u001b[38;5;241m.\u001b[39mmode \u001b[38;5;129;01min\u001b[39;00m (\u001b[38;5;124m\"\u001b[39m\u001b[38;5;124ma\u001b[39m\u001b[38;5;124m\"\u001b[39m, \u001b[38;5;124m\"\u001b[39m\u001b[38;5;124mw\u001b[39m\u001b[38;5;124m\"\u001b[39m):\n\u001b[1;32m    236\u001b[0m     \u001b[38;5;28mself\u001b[39m\u001b[38;5;241m.\u001b[39msession \u001b[38;5;241m=\u001b[39m WritingSession()\n",
      "File \u001b[0;32mfiona/ogrext.pyx:587\u001b[0m, in \u001b[0;36mfiona.ogrext.Session.start\u001b[0;34m()\u001b[0m\n",
      "File \u001b[0;32mfiona/ogrext.pyx:143\u001b[0m, in \u001b[0;36mfiona.ogrext.gdal_open_vector\u001b[0;34m()\u001b[0m\n",
      "\u001b[0;31mDriverError\u001b[0m: Failed to read GeoJSON data"
     ]
    }
   ],
   "source": [
    "df = geopandas.read_file('haigfras_seabed_2019.geojson')\n",
    "new_df = geopandas.clip(gdf=df, mask=[-1413232,6288190,-365497,6914553], keep_geom_type=False)"
   ]
  },
  {
   "cell_type": "code",
   "execution_count": null,
   "id": "64571af4",
   "metadata": {},
   "outputs": [],
   "source": []
  },
  {
   "cell_type": "code",
   "execution_count": null,
   "id": "b768f0f0",
   "metadata": {},
   "outputs": [],
   "source": []
  },
  {
   "cell_type": "code",
   "execution_count": null,
   "id": "813f4975",
   "metadata": {},
   "outputs": [],
   "source": []
  },
  {
   "cell_type": "code",
   "execution_count": null,
   "id": "c03f47bf",
   "metadata": {},
   "outputs": [],
   "source": []
  },
  {
   "cell_type": "markdown",
   "id": "2794a107",
   "metadata": {},
   "source": [
    "OPEN EMODNET SEABED SUBSTRATE"
   ]
  },
  {
   "cell_type": "code",
   "execution_count": null,
   "id": "a7ea55cd",
   "metadata": {},
   "outputs": [],
   "source": [
    "url_file = \"https://ows.emodnet-seabedhabitats.eu/geoserver/emodnet_open/wfs?SERVICE=WFS&request=getFeature&VERSION=2.0.0&typeName=emodnet_open:eusm2021_subs_full&outputFormat=application/json&bbox=-1413232,6288190,-365497,6914553\"\n",
    "r = requests.get(url_file)"
   ]
  },
  {
   "cell_type": "code",
   "execution_count": null,
   "id": "4b4b842d",
   "metadata": {},
   "outputs": [],
   "source": [
    "with open('haigfras_seabed_substrate.geojson', 'w') as f:\n",
    "   dump(r.json(), f)\n",
    "with open('haigfras_seabed_substrate.geojson') as f:\n",
    "    gj = geojson.load(f)"
   ]
  },
  {
   "cell_type": "code",
   "execution_count": null,
   "id": "cbd5221f",
   "metadata": {},
   "outputs": [],
   "source": [
    "for item in gj['features']:\n",
    "    del item[\"properties\"]['geom_200']\n",
    "    del item[\"properties\"]['geom_400']\n",
    "    del item[\"properties\"]['geom_800']\n",
    "    \n",
    "with open('haigfras_substrate.geojson', 'w') as f:\n",
    "   dump(gj, f)"
   ]
  },
  {
   "cell_type": "code",
   "execution_count": null,
   "id": "db46b078",
   "metadata": {},
   "outputs": [],
   "source": []
  },
  {
   "cell_type": "code",
   "execution_count": null,
   "id": "a64fcc5a",
   "metadata": {},
   "outputs": [],
   "source": []
  },
  {
   "cell_type": "code",
   "execution_count": 3,
   "id": "406061f0",
   "metadata": {},
   "outputs": [],
   "source": [
    "with open('haigfras_substrate.geojson') as f:\n",
    "    gj = geojson.load(f)"
   ]
  },
  {
   "cell_type": "code",
   "execution_count": 4,
   "id": "7d598f6a",
   "metadata": {},
   "outputs": [],
   "source": [
    "len_total = len(gj['features'])"
   ]
  },
  {
   "cell_type": "code",
   "execution_count": 5,
   "id": "32b9e41f",
   "metadata": {},
   "outputs": [],
   "source": [
    "import numpy as np"
   ]
  },
  {
   "cell_type": "code",
   "execution_count": null,
   "id": "6cb25a49",
   "metadata": {},
   "outputs": [
    {
     "name": "stdout",
     "output_type": "stream",
     "text": [
      "0\n",
      "Failed to read GeoJSON data\n",
      "1000\n",
      "Failed to read GeoJSON data\n",
      "2000\n",
      "Failed to read GeoJSON data\n",
      "3000\n",
      "Failed to read GeoJSON data\n",
      "4000\n",
      "Failed to read GeoJSON data\n",
      "5000\n",
      "Failed to read GeoJSON data\n",
      "6000\n",
      "Failed to read GeoJSON data\n",
      "7000\n"
     ]
    },
    {
     "ename": "KeyboardInterrupt",
     "evalue": "",
     "output_type": "error",
     "traceback": [
      "\u001b[0;31m---------------------------------------------------------------------------\u001b[0m",
      "\u001b[0;31mKeyboardInterrupt\u001b[0m                         Traceback (most recent call last)",
      "File \u001b[0;32m~/.pyenv/versions/3.10.6/lib/python3.10/logging/__init__.py:2071\u001b[0m, in \u001b[0;36mgetLogger\u001b[0;34m(name)\u001b[0m\n\u001b[1;32m   2064\u001b[0m         _releaseLock()\n\u001b[1;32m   2066\u001b[0m \u001b[38;5;66;03m#---------------------------------------------------------------------------\u001b[39;00m\n\u001b[1;32m   2067\u001b[0m \u001b[38;5;66;03m# Utility functions at module level.\u001b[39;00m\n\u001b[1;32m   2068\u001b[0m \u001b[38;5;66;03m# Basically delegate everything to the root logger.\u001b[39;00m\n\u001b[1;32m   2069\u001b[0m \u001b[38;5;66;03m#---------------------------------------------------------------------------\u001b[39;00m\n\u001b[0;32m-> 2071\u001b[0m \u001b[38;5;28;01mdef\u001b[39;00m \u001b[38;5;21mgetLogger\u001b[39m(name\u001b[38;5;241m=\u001b[39m\u001b[38;5;28;01mNone\u001b[39;00m):\n\u001b[1;32m   2072\u001b[0m     \u001b[38;5;124;03m\"\"\"\u001b[39;00m\n\u001b[1;32m   2073\u001b[0m \u001b[38;5;124;03m    Return a logger with the specified name, creating it if necessary.\u001b[39;00m\n\u001b[1;32m   2074\u001b[0m \n\u001b[1;32m   2075\u001b[0m \u001b[38;5;124;03m    If no name is specified, return the root logger.\u001b[39;00m\n\u001b[1;32m   2076\u001b[0m \u001b[38;5;124;03m    \"\"\"\u001b[39;00m\n\u001b[1;32m   2077\u001b[0m     \u001b[38;5;28;01mif\u001b[39;00m \u001b[38;5;129;01mnot\u001b[39;00m name \u001b[38;5;129;01mor\u001b[39;00m \u001b[38;5;28misinstance\u001b[39m(name, \u001b[38;5;28mstr\u001b[39m) \u001b[38;5;129;01mand\u001b[39;00m name \u001b[38;5;241m==\u001b[39m root\u001b[38;5;241m.\u001b[39mname:\n",
      "\u001b[0;31mKeyboardInterrupt\u001b[0m: "
     ]
    },
    {
     "name": "stderr",
     "output_type": "stream",
     "text": [
      "Exception ignored in: 'fiona._env.log_error'\n",
      "Traceback (most recent call last):\n",
      "  File \"/home/tobfer/.pyenv/versions/3.10.6/lib/python3.10/logging/__init__.py\", line 2071, in getLogger\n",
      "    def getLogger(name=None):\n",
      "KeyboardInterrupt: \n"
     ]
    },
    {
     "name": "stdout",
     "output_type": "stream",
     "text": [
      "Failed to read GeoJSON data\n",
      "8000\n",
      "Failed to read GeoJSON data\n",
      "9000\n",
      "Failed to read GeoJSON data\n",
      "10000\n",
      "Failed to read GeoJSON data\n",
      "11000\n",
      "Failed to read GeoJSON data\n",
      "12000\n",
      "Failed to read GeoJSON data\n",
      "13000\n",
      "Failed to read GeoJSON data\n",
      "14000\n",
      "Failed to read GeoJSON data\n",
      "15000\n",
      "Failed to read GeoJSON data\n",
      "16000\n",
      "Failed to read GeoJSON data\n",
      "17000\n",
      "Failed to read GeoJSON data\n",
      "18000\n",
      "Failed to read GeoJSON data\n",
      "19000\n",
      "Failed to read GeoJSON data\n",
      "20000\n",
      "Failed to read GeoJSON data\n",
      "21000\n",
      "Failed to read GeoJSON data\n",
      "22000\n",
      "Failed to read GeoJSON data\n",
      "23000\n",
      "Failed to read GeoJSON data\n",
      "24000\n",
      "Failed to read GeoJSON data\n",
      "25000\n",
      "Failed to read GeoJSON data\n",
      "26000\n",
      "Failed to read GeoJSON data\n",
      "27000\n",
      "Failed to read GeoJSON data\n",
      "28000\n",
      "Failed to read GeoJSON data\n",
      "29000\n",
      "Failed to read GeoJSON data\n",
      "30000\n",
      "Failed to read GeoJSON data\n",
      "31000\n",
      "Failed to read GeoJSON data\n",
      "32000\n",
      "Failed to read GeoJSON data\n",
      "33000\n",
      "Failed to read GeoJSON data\n",
      "34000\n",
      "Failed to read GeoJSON data\n",
      "35000\n",
      "Failed to read GeoJSON data\n",
      "36000\n",
      "Failed to read GeoJSON data\n",
      "37000\n",
      "Failed to read GeoJSON data\n",
      "38000\n",
      "Failed to read GeoJSON data\n",
      "39000\n",
      "Failed to read GeoJSON data\n",
      "40000\n",
      "Failed to read GeoJSON data\n",
      "41000\n",
      "Failed to read GeoJSON data\n",
      "42000\n",
      "Failed to read GeoJSON data\n",
      "43000\n",
      "Failed to read GeoJSON data\n",
      "44000\n",
      "Failed to read GeoJSON data\n",
      "45000\n",
      "Failed to read GeoJSON data\n",
      "46000\n",
      "Failed to read GeoJSON data\n",
      "47000\n",
      "Failed to read GeoJSON data\n",
      "48000\n",
      "Failed to read GeoJSON data\n",
      "49000\n",
      "Failed to read GeoJSON data\n",
      "50000\n",
      "Failed to read GeoJSON data\n",
      "51000\n",
      "Failed to read GeoJSON data\n",
      "52000\n",
      "Failed to read GeoJSON data\n",
      "53000\n",
      "Failed to read GeoJSON data\n",
      "54000\n",
      "Failed to read GeoJSON data\n",
      "55000\n",
      "Failed to read GeoJSON data\n",
      "56000\n",
      "Failed to read GeoJSON data\n",
      "57000\n",
      "Failed to read GeoJSON data\n",
      "58000\n",
      "Failed to read GeoJSON data\n",
      "59000\n",
      "Failed to read GeoJSON data\n",
      "60000\n",
      "Failed to read GeoJSON data\n",
      "61000\n",
      "Failed to read GeoJSON data\n",
      "62000\n",
      "Failed to read GeoJSON data\n",
      "63000\n",
      "Failed to read GeoJSON data\n",
      "64000\n",
      "Failed to read GeoJSON data\n",
      "65000\n",
      "Failed to read GeoJSON data\n",
      "66000\n",
      "Failed to read GeoJSON data\n",
      "67000\n",
      "Failed to read GeoJSON data\n",
      "68000\n",
      "Failed to read GeoJSON data\n",
      "69000\n",
      "Failed to read GeoJSON data\n",
      "70000\n",
      "Failed to read GeoJSON data\n",
      "71000\n",
      "Failed to read GeoJSON data\n",
      "72000\n",
      "Failed to read GeoJSON data\n",
      "73000\n",
      "Failed to read GeoJSON data\n",
      "74000\n",
      "Failed to read GeoJSON data\n",
      "75000\n",
      "Failed to read GeoJSON data\n",
      "76000\n",
      "Failed to read GeoJSON data\n",
      "77000\n",
      "Failed to read GeoJSON data\n",
      "78000\n",
      "Failed to read GeoJSON data\n",
      "79000\n",
      "Failed to read GeoJSON data\n",
      "80000\n",
      "Failed to read GeoJSON data\n",
      "81000\n",
      "Failed to read GeoJSON data\n",
      "82000\n",
      "Failed to read GeoJSON data\n",
      "83000\n",
      "Failed to read GeoJSON data\n",
      "84000\n"
     ]
    }
   ],
   "source": [
    "gdf = geopandas.GeoDataFrame()\n",
    "for i in np.arange(0,len_total,1000):\n",
    "    print(i)\n",
    "    try:\n",
    "        df = geopandas.read_file(\"haigfras_substrate.geojson\", rows=slice(i,i+1000), bbox=(-1413232,6288190,-365497,6914553))\n",
    "        gdf = gdf.append(df)        \n",
    "    except Exception as e:\n",
    "        print(e)"
   ]
  },
  {
   "cell_type": "code",
   "execution_count": null,
   "id": "b5c41a1d",
   "metadata": {},
   "outputs": [],
   "source": [
    "df = geopandas.read_file(\"nybb.shp\", rows=10)  \n",
    "Reading only geometries intersecting mask:\n",
    "\n",
    "df = geopandas.read_file(\"nybb.shp\", mask=polygon)  \n",
    "Reading only geometries intersecting bbox:\n",
    "\n",
    "df = geopandas.read_file(\"nybb.shp\", bbox=(0, 0, 10, 20))  "
   ]
  },
  {
   "cell_type": "code",
   "execution_count": 7,
   "id": "c638b1de",
   "metadata": {},
   "outputs": [],
   "source": [
    "from osgeo import gdal\n",
    "\n",
    "ds = gdal.OpenEx('haigfras_seabed_substrate.geojson')\n"
   ]
  },
  {
   "cell_type": "code",
   "execution_count": 18,
   "id": "7a91d59c",
   "metadata": {},
   "outputs": [
    {
     "data": {
      "text/plain": [
       "{}"
      ]
     },
     "execution_count": 18,
     "metadata": {},
     "output_type": "execute_result"
    }
   ],
   "source": [
    "ds.GetMetadata()"
   ]
  },
  {
   "cell_type": "code",
   "execution_count": 8,
   "id": "490d0a90",
   "metadata": {},
   "outputs": [
    {
     "name": "stdout",
     "output_type": "stream",
     "text": [
      "GeoJSON\n",
      "MULTIPOLYGON (((-599332.2698 6454384.9905,-599427.1741 6454351.375,-599471.8467 6454438.9994,-599324.9319 6454393.1538,-599332.2698 6454384.9905)))\n"
     ]
    }
   ],
   "source": [
    "layer = ds.GetLayer()\n",
    "feature = layer.GetFeature(0)\n",
    "\n",
    "print(ds.GetDriver().ShortName)\n",
    "print(feature.GetGeometryRef().ExportToWkt())"
   ]
  },
  {
   "cell_type": "code",
   "execution_count": 9,
   "id": "0350555c",
   "metadata": {},
   "outputs": [
    {
     "name": "stdout",
     "output_type": "stream",
     "text": [
      "MULTIPOLYGON (((-599332.2698 6454384.9905,-599427.1741 6454351.375,-599471.8467 6454438.9994,-599324.9319 6454393.1538,-599332.2698 6454384.9905)))\n"
     ]
    }
   ],
   "source": [
    "print(feature.GetGeometryRef())"
   ]
  },
  {
   "cell_type": "code",
   "execution_count": null,
   "id": "ca4c7b06",
   "metadata": {},
   "outputs": [],
   "source": [
    "layer = ds.GetLayer()\n",
    "feature = layer.GetFeature(0)"
   ]
  },
  {
   "cell_type": "code",
   "execution_count": 19,
   "id": "d9bd03d4",
   "metadata": {},
   "outputs": [
    {
     "data": {
      "text/plain": [
       "159757"
      ]
     },
     "execution_count": 19,
     "metadata": {},
     "output_type": "execute_result"
    }
   ],
   "source": [
    "len(gj['features'])"
   ]
  },
  {
   "cell_type": "code",
   "execution_count": 15,
   "id": "f99df20e",
   "metadata": {},
   "outputs": [
    {
     "data": {
      "text/plain": [
       "{'substrate': 'Sediment',\n",
       " 'shape_length': 363.915041575287,\n",
       " 'shape_area': 5676.67207266843,\n",
       " 'geom_200': {\"coordinates\": [], \"type\": \"MultiPolygon\"},\n",
       " 'geom_400': {\"coordinates\": [], \"type\": \"MultiPolygon\"},\n",
       " 'geom_800': {\"coordinates\": [], \"type\": \"MultiPolygon\"}}"
      ]
     },
     "execution_count": 15,
     "metadata": {},
     "output_type": "execute_result"
    }
   ],
   "source": [
    "gj['features'][0]['properties']"
   ]
  },
  {
   "cell_type": "code",
   "execution_count": 16,
   "id": "0d752c17",
   "metadata": {},
   "outputs": [],
   "source": [
    "for item in gj['features']:\n",
    "    del item[\"properties\"]['geom_200']\n",
    "    del item[\"properties\"]['geom_400']\n",
    "    del item[\"properties\"]['geom_800']\n",
    "with open('haigfras_substrate.geojson', 'w') as f:\n",
    "   dump(gj, f)"
   ]
  },
  {
   "cell_type": "code",
   "execution_count": 23,
   "id": "88a3ca7b",
   "metadata": {},
   "outputs": [],
   "source": [
    "with open('haigfras_substrate.geojson', 'w') as f:\n",
    "   dump(gj, f)"
   ]
  },
  {
   "cell_type": "code",
   "execution_count": 36,
   "id": "5227bdb5",
   "metadata": {},
   "outputs": [
    {
     "data": {
      "text/plain": [
       "159757"
      ]
     },
     "execution_count": 36,
     "metadata": {},
     "output_type": "execute_result"
    }
   ],
   "source": [
    "len(gj.features)"
   ]
  },
  {
   "cell_type": "code",
   "execution_count": 44,
   "id": "46f5e082",
   "metadata": {},
   "outputs": [],
   "source": [
    "input_path = Path('./')\n",
    "files = list(input_path.glob(\"*_xaaa*.geojson\"))"
   ]
  },
  {
   "cell_type": "code",
   "execution_count": 61,
   "id": "97a3c375",
   "metadata": {},
   "outputs": [
    {
     "name": "stdout",
     "output_type": "stream",
     "text": [
      "haigfras_substrate_xaaaa.geojson\n"
     ]
    },
    {
     "name": "stderr",
     "output_type": "stream",
     "text": [
      "/tmp/ipykernel_30873/510254483.py:8: FutureWarning: The frame.append method is deprecated and will be removed from pandas in a future version. Use pandas.concat instead.\n",
      "  gdf = gdf.append(new_df)\n"
     ]
    },
    {
     "name": "stdout",
     "output_type": "stream",
     "text": [
      "haigfras_substrate_xaaao.geojson\n"
     ]
    },
    {
     "name": "stderr",
     "output_type": "stream",
     "text": [
      "/tmp/ipykernel_30873/510254483.py:8: FutureWarning: The frame.append method is deprecated and will be removed from pandas in a future version. Use pandas.concat instead.\n",
      "  gdf = gdf.append(new_df)\n"
     ]
    },
    {
     "name": "stdout",
     "output_type": "stream",
     "text": [
      "haigfras_substrate_xaaam.geojson\n"
     ]
    },
    {
     "name": "stderr",
     "output_type": "stream",
     "text": [
      "/tmp/ipykernel_30873/510254483.py:8: FutureWarning: The frame.append method is deprecated and will be removed from pandas in a future version. Use pandas.concat instead.\n",
      "  gdf = gdf.append(new_df)\n"
     ]
    },
    {
     "name": "stdout",
     "output_type": "stream",
     "text": [
      "haigfras_substrate_xaaaq.geojson\n"
     ]
    },
    {
     "name": "stderr",
     "output_type": "stream",
     "text": [
      "/tmp/ipykernel_30873/510254483.py:8: FutureWarning: The frame.append method is deprecated and will be removed from pandas in a future version. Use pandas.concat instead.\n",
      "  gdf = gdf.append(new_df)\n"
     ]
    },
    {
     "name": "stdout",
     "output_type": "stream",
     "text": [
      "haigfras_substrate_xaaae.geojson\n",
      "Failed to read GeoJSON data\n",
      "haigfras_substrate_xaaah.geojson\n"
     ]
    },
    {
     "name": "stderr",
     "output_type": "stream",
     "text": [
      "/tmp/ipykernel_30873/510254483.py:8: FutureWarning: The frame.append method is deprecated and will be removed from pandas in a future version. Use pandas.concat instead.\n",
      "  gdf = gdf.append(new_df)\n"
     ]
    },
    {
     "name": "stdout",
     "output_type": "stream",
     "text": [
      "haigfras_substrate_xaaag.geojson\n"
     ]
    },
    {
     "name": "stderr",
     "output_type": "stream",
     "text": [
      "/tmp/ipykernel_30873/510254483.py:8: FutureWarning: The frame.append method is deprecated and will be removed from pandas in a future version. Use pandas.concat instead.\n",
      "  gdf = gdf.append(new_df)\n"
     ]
    },
    {
     "name": "stdout",
     "output_type": "stream",
     "text": [
      "haigfras_substrate_xaaal.geojson\n"
     ]
    },
    {
     "name": "stderr",
     "output_type": "stream",
     "text": [
      "/tmp/ipykernel_30873/510254483.py:8: FutureWarning: The frame.append method is deprecated and will be removed from pandas in a future version. Use pandas.concat instead.\n",
      "  gdf = gdf.append(new_df)\n"
     ]
    },
    {
     "name": "stdout",
     "output_type": "stream",
     "text": [
      "haigfras_substrate_xaaab.geojson\n"
     ]
    },
    {
     "name": "stderr",
     "output_type": "stream",
     "text": [
      "/tmp/ipykernel_30873/510254483.py:8: FutureWarning: The frame.append method is deprecated and will be removed from pandas in a future version. Use pandas.concat instead.\n",
      "  gdf = gdf.append(new_df)\n"
     ]
    },
    {
     "name": "stdout",
     "output_type": "stream",
     "text": [
      "haigfras_substrate_xaaai.geojson\n"
     ]
    },
    {
     "name": "stderr",
     "output_type": "stream",
     "text": [
      "/tmp/ipykernel_30873/510254483.py:8: FutureWarning: The frame.append method is deprecated and will be removed from pandas in a future version. Use pandas.concat instead.\n",
      "  gdf = gdf.append(new_df)\n"
     ]
    },
    {
     "name": "stdout",
     "output_type": "stream",
     "text": [
      "haigfras_substrate_xaaaf.geojson\n"
     ]
    },
    {
     "name": "stderr",
     "output_type": "stream",
     "text": [
      "/tmp/ipykernel_30873/510254483.py:8: FutureWarning: The frame.append method is deprecated and will be removed from pandas in a future version. Use pandas.concat instead.\n",
      "  gdf = gdf.append(new_df)\n"
     ]
    },
    {
     "name": "stdout",
     "output_type": "stream",
     "text": [
      "haigfras_substrate_xaaak.geojson\n"
     ]
    },
    {
     "name": "stderr",
     "output_type": "stream",
     "text": [
      "/tmp/ipykernel_30873/510254483.py:8: FutureWarning: The frame.append method is deprecated and will be removed from pandas in a future version. Use pandas.concat instead.\n",
      "  gdf = gdf.append(new_df)\n"
     ]
    },
    {
     "name": "stdout",
     "output_type": "stream",
     "text": [
      "haigfras_substrate_xaaad.geojson\n"
     ]
    },
    {
     "name": "stderr",
     "output_type": "stream",
     "text": [
      "/tmp/ipykernel_30873/510254483.py:8: FutureWarning: The frame.append method is deprecated and will be removed from pandas in a future version. Use pandas.concat instead.\n",
      "  gdf = gdf.append(new_df)\n"
     ]
    },
    {
     "name": "stdout",
     "output_type": "stream",
     "text": [
      "haigfras_substrate_xaaac.geojson\n"
     ]
    },
    {
     "name": "stderr",
     "output_type": "stream",
     "text": [
      "/tmp/ipykernel_30873/510254483.py:8: FutureWarning: The frame.append method is deprecated and will be removed from pandas in a future version. Use pandas.concat instead.\n",
      "  gdf = gdf.append(new_df)\n"
     ]
    },
    {
     "name": "stdout",
     "output_type": "stream",
     "text": [
      "haigfras_substrate_xaaaj.geojson\n"
     ]
    },
    {
     "name": "stderr",
     "output_type": "stream",
     "text": [
      "/tmp/ipykernel_30873/510254483.py:8: FutureWarning: The frame.append method is deprecated and will be removed from pandas in a future version. Use pandas.concat instead.\n",
      "  gdf = gdf.append(new_df)\n"
     ]
    },
    {
     "name": "stdout",
     "output_type": "stream",
     "text": [
      "haigfras_substrate_xaaap.geojson\n"
     ]
    },
    {
     "name": "stderr",
     "output_type": "stream",
     "text": [
      "/tmp/ipykernel_30873/510254483.py:8: FutureWarning: The frame.append method is deprecated and will be removed from pandas in a future version. Use pandas.concat instead.\n",
      "  gdf = gdf.append(new_df)\n"
     ]
    }
   ],
   "source": [
    "gdf = geopandas.GeoDataFrame()\n",
    "for \n",
    "for file in files:\n",
    "    print(file)\n",
    "    try:\n",
    "        df = geopandas.read_file(str(file))\n",
    "        new_df = geopandas.clip(gdf=df, mask=[-1413232,6288190,-365497,6914553], keep_geom_type=False)\n",
    "        new_df.to_json()\n",
    "        gdf = gdf.append(new_df)        \n",
    "    except Exception as e:\n",
    "        print(e)"
   ]
  },
  {
   "cell_type": "code",
   "execution_count": 77,
   "id": "d588d6f2",
   "metadata": {},
   "outputs": [],
   "source": [
    "with open('haigfras_substrate_xaaae_xaaac_xaaab_xaaai_xaabe.geojson') as f:\n",
    "    gj = geojson.load(f)"
   ]
  },
  {
   "cell_type": "code",
   "execution_count": 113,
   "id": "4adb8b11",
   "metadata": {},
   "outputs": [
    {
     "data": {
      "text/plain": [
       "{'substrate': 'Coarse substrate',\n",
       " 'shape_length': 45952962.0972195,\n",
       " 'shape_area': 13953138588.7864}"
      ]
     },
     "execution_count": 113,
     "metadata": {},
     "output_type": "execute_result"
    }
   ],
   "source": [
    "gj['features'][0]['properties']"
   ]
  },
  {
   "cell_type": "code",
   "execution_count": null,
   "id": "13853356",
   "metadata": {},
   "outputs": [],
   "source": []
  },
  {
   "cell_type": "code",
   "execution_count": 114,
   "id": "812455be",
   "metadata": {},
   "outputs": [
    {
     "data": {
      "text/plain": [
       "52204141"
      ]
     },
     "execution_count": 114,
     "metadata": {},
     "output_type": "execute_result"
    }
   ],
   "source": [
    "with open('haigfras_substrate_xaaae_xaaac_xaaab_xaaai_xaabe.geojson') as f:\n",
    "    gj = geojson.load(f)\n",
    "\n",
    "output = { \"type\": \"FeatureCollection\", \"features\": [] }\n",
    "\n",
    "for feature in gj['features']:\n",
    "    if (feature['geometry'] is not None) and (feature['geometry']['type'] == 'MultiPolygon'):\n",
    "        for poly in feature['geometry']['coordinates'][0]:\n",
    "            xfeature = { \"type\": \"Feature\", \"properties\": feature['properties'], \"geometry\": { \"type\": \"Polygon\" } }\n",
    "            xfeature['geometry']['coordinates'] = poly\n",
    "            output['features'].append(xfeature)\n",
    "\n",
    "with open('polygons.geojson', 'w') as f:\n",
    "   dump(output.json(), f)"
   ]
  },
  {
   "cell_type": "code",
   "execution_count": 120,
   "id": "8c316d1d",
   "metadata": {},
   "outputs": [],
   "source": [
    "with open('polygons.geojson', 'w') as f:\n",
    "   dump(output, f)"
   ]
  },
  {
   "cell_type": "code",
   "execution_count": null,
   "id": "8cbc241c",
   "metadata": {},
   "outputs": [],
   "source": [
    "gj['features'][0]['geometry']['coordinates'][0][2]"
   ]
  },
  {
   "cell_type": "code",
   "execution_count": 121,
   "id": "eb112402",
   "metadata": {},
   "outputs": [],
   "source": [
    "df = geopandas.read_file('polygons.geojson')"
   ]
  },
  {
   "cell_type": "code",
   "execution_count": 122,
   "id": "9f59a62b",
   "metadata": {},
   "outputs": [
    {
     "data": {
      "text/html": [
       "<div>\n",
       "<style scoped>\n",
       "    .dataframe tbody tr th:only-of-type {\n",
       "        vertical-align: middle;\n",
       "    }\n",
       "\n",
       "    .dataframe tbody tr th {\n",
       "        vertical-align: top;\n",
       "    }\n",
       "\n",
       "    .dataframe thead th {\n",
       "        text-align: right;\n",
       "    }\n",
       "</style>\n",
       "<table border=\"1\" class=\"dataframe\">\n",
       "  <thead>\n",
       "    <tr style=\"text-align: right;\">\n",
       "      <th></th>\n",
       "      <th>substrate</th>\n",
       "      <th>shape_length</th>\n",
       "      <th>shape_area</th>\n",
       "      <th>geometry</th>\n",
       "    </tr>\n",
       "  </thead>\n",
       "  <tbody>\n",
       "    <tr>\n",
       "      <th>0</th>\n",
       "      <td>Coarse substrate</td>\n",
       "      <td>4.595296e+07</td>\n",
       "      <td>1.395314e+10</td>\n",
       "      <td>None</td>\n",
       "    </tr>\n",
       "    <tr>\n",
       "      <th>1</th>\n",
       "      <td>Coarse substrate</td>\n",
       "      <td>4.595296e+07</td>\n",
       "      <td>1.395314e+10</td>\n",
       "      <td>None</td>\n",
       "    </tr>\n",
       "    <tr>\n",
       "      <th>2</th>\n",
       "      <td>Coarse substrate</td>\n",
       "      <td>4.595296e+07</td>\n",
       "      <td>1.395314e+10</td>\n",
       "      <td>None</td>\n",
       "    </tr>\n",
       "    <tr>\n",
       "      <th>3</th>\n",
       "      <td>Coarse substrate</td>\n",
       "      <td>4.595296e+07</td>\n",
       "      <td>1.395314e+10</td>\n",
       "      <td>None</td>\n",
       "    </tr>\n",
       "    <tr>\n",
       "      <th>4</th>\n",
       "      <td>Coarse substrate</td>\n",
       "      <td>4.595296e+07</td>\n",
       "      <td>1.395314e+10</td>\n",
       "      <td>None</td>\n",
       "    </tr>\n",
       "    <tr>\n",
       "      <th>...</th>\n",
       "      <td>...</td>\n",
       "      <td>...</td>\n",
       "      <td>...</td>\n",
       "      <td>...</td>\n",
       "    </tr>\n",
       "    <tr>\n",
       "      <th>28374</th>\n",
       "      <td>Coarse substrate</td>\n",
       "      <td>4.595296e+07</td>\n",
       "      <td>1.395314e+10</td>\n",
       "      <td>None</td>\n",
       "    </tr>\n",
       "    <tr>\n",
       "      <th>28375</th>\n",
       "      <td>Coarse substrate</td>\n",
       "      <td>4.595296e+07</td>\n",
       "      <td>1.395314e+10</td>\n",
       "      <td>None</td>\n",
       "    </tr>\n",
       "    <tr>\n",
       "      <th>28376</th>\n",
       "      <td>Coarse substrate</td>\n",
       "      <td>4.595296e+07</td>\n",
       "      <td>1.395314e+10</td>\n",
       "      <td>None</td>\n",
       "    </tr>\n",
       "    <tr>\n",
       "      <th>28377</th>\n",
       "      <td>Coarse substrate</td>\n",
       "      <td>4.595296e+07</td>\n",
       "      <td>1.395314e+10</td>\n",
       "      <td>None</td>\n",
       "    </tr>\n",
       "    <tr>\n",
       "      <th>28378</th>\n",
       "      <td>Coarse substrate</td>\n",
       "      <td>4.595296e+07</td>\n",
       "      <td>1.395314e+10</td>\n",
       "      <td>None</td>\n",
       "    </tr>\n",
       "  </tbody>\n",
       "</table>\n",
       "<p>28379 rows × 4 columns</p>\n",
       "</div>"
      ],
      "text/plain": [
       "              substrate  shape_length    shape_area geometry\n",
       "0      Coarse substrate  4.595296e+07  1.395314e+10     None\n",
       "1      Coarse substrate  4.595296e+07  1.395314e+10     None\n",
       "2      Coarse substrate  4.595296e+07  1.395314e+10     None\n",
       "3      Coarse substrate  4.595296e+07  1.395314e+10     None\n",
       "4      Coarse substrate  4.595296e+07  1.395314e+10     None\n",
       "...                 ...           ...           ...      ...\n",
       "28374  Coarse substrate  4.595296e+07  1.395314e+10     None\n",
       "28375  Coarse substrate  4.595296e+07  1.395314e+10     None\n",
       "28376  Coarse substrate  4.595296e+07  1.395314e+10     None\n",
       "28377  Coarse substrate  4.595296e+07  1.395314e+10     None\n",
       "28378  Coarse substrate  4.595296e+07  1.395314e+10     None\n",
       "\n",
       "[28379 rows x 4 columns]"
      ]
     },
     "execution_count": 122,
     "metadata": {},
     "output_type": "execute_result"
    }
   ],
   "source": [
    "df"
   ]
  },
  {
   "cell_type": "code",
   "execution_count": 69,
   "id": "b7e39dc5",
   "metadata": {},
   "outputs": [],
   "source": [
    "input_path = Path('./')\n",
    "files = list(input_path.glob(\"*_xaaae_xaaac_xaaab_x*.geojson\"))"
   ]
  },
  {
   "cell_type": "code",
   "execution_count": 70,
   "id": "fec4d590",
   "metadata": {},
   "outputs": [
    {
     "name": "stdout",
     "output_type": "stream",
     "text": [
      "haigfras_substrate_xaaae_xaaac_xaaab_xaaai_xaabg.geojson\n",
      "haigfras_substrate_xaaae_xaaac_xaaab_xaaai_xaaal.geojson\n",
      "haigfras_substrate_xaaae_xaaac_xaaab_xaaai_xaaai.geojson\n",
      "haigfras_substrate_xaaae_xaaac_xaaab_xaaad.geojson\n",
      "haigfras_substrate_xaaae_xaaac_xaaab_xaaai_xaabf.geojson\n",
      "haigfras_substrate_xaaae_xaaac_xaaab_xaaai_xaaao.geojson\n",
      "haigfras_substrate_xaaae_xaaac_xaaab_xaaai_xaaaj.geojson\n",
      "haigfras_substrate_xaaae_xaaac_xaaab_xaaae.geojson\n",
      "haigfras_substrate_xaaae_xaaac_xaaab_xaaab.geojson\n"
     ]
    },
    {
     "name": "stderr",
     "output_type": "stream",
     "text": [
      "/tmp/ipykernel_30873/2782387842.py:7: FutureWarning: The frame.append method is deprecated and will be removed from pandas in a future version. Use pandas.concat instead.\n",
      "  gdf = gdf.append(new_df)\n",
      "/tmp/ipykernel_30873/2782387842.py:7: FutureWarning: The frame.append method is deprecated and will be removed from pandas in a future version. Use pandas.concat instead.\n",
      "  gdf = gdf.append(new_df)\n",
      "/tmp/ipykernel_30873/2782387842.py:7: FutureWarning: The frame.append method is deprecated and will be removed from pandas in a future version. Use pandas.concat instead.\n",
      "  gdf = gdf.append(new_df)\n",
      "/tmp/ipykernel_30873/2782387842.py:7: FutureWarning: The frame.append method is deprecated and will be removed from pandas in a future version. Use pandas.concat instead.\n",
      "  gdf = gdf.append(new_df)\n",
      "/tmp/ipykernel_30873/2782387842.py:7: FutureWarning: The frame.append method is deprecated and will be removed from pandas in a future version. Use pandas.concat instead.\n",
      "  gdf = gdf.append(new_df)\n",
      "/tmp/ipykernel_30873/2782387842.py:7: FutureWarning: The frame.append method is deprecated and will be removed from pandas in a future version. Use pandas.concat instead.\n",
      "  gdf = gdf.append(new_df)\n",
      "/tmp/ipykernel_30873/2782387842.py:7: FutureWarning: The frame.append method is deprecated and will be removed from pandas in a future version. Use pandas.concat instead.\n",
      "  gdf = gdf.append(new_df)\n",
      "/tmp/ipykernel_30873/2782387842.py:7: FutureWarning: The frame.append method is deprecated and will be removed from pandas in a future version. Use pandas.concat instead.\n",
      "  gdf = gdf.append(new_df)\n",
      "/tmp/ipykernel_30873/2782387842.py:7: FutureWarning: The frame.append method is deprecated and will be removed from pandas in a future version. Use pandas.concat instead.\n",
      "  gdf = gdf.append(new_df)\n",
      "/tmp/ipykernel_30873/2782387842.py:7: FutureWarning: The frame.append method is deprecated and will be removed from pandas in a future version. Use pandas.concat instead.\n",
      "  gdf = gdf.append(new_df)\n",
      "/tmp/ipykernel_30873/2782387842.py:7: FutureWarning: The frame.append method is deprecated and will be removed from pandas in a future version. Use pandas.concat instead.\n",
      "  gdf = gdf.append(new_df)\n",
      "/tmp/ipykernel_30873/2782387842.py:7: FutureWarning: The frame.append method is deprecated and will be removed from pandas in a future version. Use pandas.concat instead.\n",
      "  gdf = gdf.append(new_df)\n",
      "/tmp/ipykernel_30873/2782387842.py:7: FutureWarning: The frame.append method is deprecated and will be removed from pandas in a future version. Use pandas.concat instead.\n",
      "  gdf = gdf.append(new_df)\n",
      "/tmp/ipykernel_30873/2782387842.py:7: FutureWarning: The frame.append method is deprecated and will be removed from pandas in a future version. Use pandas.concat instead.\n",
      "  gdf = gdf.append(new_df)\n",
      "/tmp/ipykernel_30873/2782387842.py:7: FutureWarning: The frame.append method is deprecated and will be removed from pandas in a future version. Use pandas.concat instead.\n",
      "  gdf = gdf.append(new_df)\n",
      "/tmp/ipykernel_30873/2782387842.py:7: FutureWarning: The frame.append method is deprecated and will be removed from pandas in a future version. Use pandas.concat instead.\n",
      "  gdf = gdf.append(new_df)\n",
      "/tmp/ipykernel_30873/2782387842.py:7: FutureWarning: The frame.append method is deprecated and will be removed from pandas in a future version. Use pandas.concat instead.\n",
      "  gdf = gdf.append(new_df)\n",
      "/tmp/ipykernel_30873/2782387842.py:7: FutureWarning: The frame.append method is deprecated and will be removed from pandas in a future version. Use pandas.concat instead.\n",
      "  gdf = gdf.append(new_df)\n"
     ]
    },
    {
     "name": "stdout",
     "output_type": "stream",
     "text": [
      "haigfras_substrate_xaaae_xaaac_xaaab_xaaai_xaaby.geojson\n",
      "haigfras_substrate_xaaae_xaaac_xaaab_xaaai_xaaaw.geojson\n",
      "haigfras_substrate_xaaae_xaaac_xaaab_xaaaj.geojson\n",
      "haigfras_substrate_xaaae_xaaac_xaaab_xaaai_xaabo.geojson\n",
      "haigfras_substrate_xaaae_xaaac_xaaab_xaaai_xaabw.geojson\n",
      "haigfras_substrate_xaaae_xaaac_xaaab_xaaaa.geojson\n",
      "haigfras_substrate_xaaae_xaaac_xaaab_xaaai_xaaag.geojson\n",
      "haigfras_substrate_xaaae_xaaac_xaaab_xaaai_xaaaq.geojson\n",
      "haigfras_substrate_xaaae_xaaac_xaaab_xaaai_xaaab.geojson\n",
      "haigfras_substrate_xaaae_xaaac_xaaab_xaaai_xaabh.geojson\n"
     ]
    },
    {
     "name": "stderr",
     "output_type": "stream",
     "text": [
      "/tmp/ipykernel_30873/2782387842.py:7: FutureWarning: The frame.append method is deprecated and will be removed from pandas in a future version. Use pandas.concat instead.\n",
      "  gdf = gdf.append(new_df)\n",
      "/tmp/ipykernel_30873/2782387842.py:7: FutureWarning: The frame.append method is deprecated and will be removed from pandas in a future version. Use pandas.concat instead.\n",
      "  gdf = gdf.append(new_df)\n"
     ]
    },
    {
     "name": "stdout",
     "output_type": "stream",
     "text": [
      "haigfras_substrate_xaaae_xaaac_xaaab_xaaai_xaaac.geojson\n",
      "haigfras_substrate_xaaae_xaaac_xaaab_xaaai_xaabe.geojson\n",
      "Failed to read GeoJSON data\n",
      "haigfras_substrate_xaaae_xaaac_xaaab_xaaai_xaabz.geojson\n",
      "haigfras_substrate_xaaae_xaaac_xaaab_xaaai_xaabi.geojson\n",
      "haigfras_substrate_xaaae_xaaac_xaaab_xaaai_xaabp.geojson\n",
      "haigfras_substrate_xaaae_xaaac_xaaab_xaaai_xaaar.geojson\n",
      "haigfras_substrate_xaaae_xaaac_xaaab_xaaai_xaabm.geojson\n",
      "haigfras_substrate_xaaae_xaaac_xaaab_xaaai_xaaay.geojson\n",
      "haigfras_substrate_xaaae_xaaac_xaaab_xaaai_xaaav.geojson\n",
      "haigfras_substrate_xaaae_xaaac_xaaab_xaaah.geojson\n",
      "haigfras_substrate_xaaae_xaaac_xaaab_xaaai_xaabx.geojson\n",
      "haigfras_substrate_xaaae_xaaac_xaaab_xaaai_xaaah.geojson\n",
      "haigfras_substrate_xaaae_xaaac_xaaab_xaaac.geojson\n"
     ]
    },
    {
     "name": "stderr",
     "output_type": "stream",
     "text": [
      "/tmp/ipykernel_30873/2782387842.py:7: FutureWarning: The frame.append method is deprecated and will be removed from pandas in a future version. Use pandas.concat instead.\n",
      "  gdf = gdf.append(new_df)\n",
      "/tmp/ipykernel_30873/2782387842.py:7: FutureWarning: The frame.append method is deprecated and will be removed from pandas in a future version. Use pandas.concat instead.\n",
      "  gdf = gdf.append(new_df)\n",
      "/tmp/ipykernel_30873/2782387842.py:7: FutureWarning: The frame.append method is deprecated and will be removed from pandas in a future version. Use pandas.concat instead.\n",
      "  gdf = gdf.append(new_df)\n",
      "/tmp/ipykernel_30873/2782387842.py:7: FutureWarning: The frame.append method is deprecated and will be removed from pandas in a future version. Use pandas.concat instead.\n",
      "  gdf = gdf.append(new_df)\n",
      "/tmp/ipykernel_30873/2782387842.py:7: FutureWarning: The frame.append method is deprecated and will be removed from pandas in a future version. Use pandas.concat instead.\n",
      "  gdf = gdf.append(new_df)\n",
      "/tmp/ipykernel_30873/2782387842.py:7: FutureWarning: The frame.append method is deprecated and will be removed from pandas in a future version. Use pandas.concat instead.\n",
      "  gdf = gdf.append(new_df)\n",
      "/tmp/ipykernel_30873/2782387842.py:7: FutureWarning: The frame.append method is deprecated and will be removed from pandas in a future version. Use pandas.concat instead.\n",
      "  gdf = gdf.append(new_df)\n",
      "/tmp/ipykernel_30873/2782387842.py:7: FutureWarning: The frame.append method is deprecated and will be removed from pandas in a future version. Use pandas.concat instead.\n",
      "  gdf = gdf.append(new_df)\n",
      "/tmp/ipykernel_30873/2782387842.py:7: FutureWarning: The frame.append method is deprecated and will be removed from pandas in a future version. Use pandas.concat instead.\n",
      "  gdf = gdf.append(new_df)\n",
      "/tmp/ipykernel_30873/2782387842.py:7: FutureWarning: The frame.append method is deprecated and will be removed from pandas in a future version. Use pandas.concat instead.\n",
      "  gdf = gdf.append(new_df)\n",
      "/tmp/ipykernel_30873/2782387842.py:7: FutureWarning: The frame.append method is deprecated and will be removed from pandas in a future version. Use pandas.concat instead.\n",
      "  gdf = gdf.append(new_df)\n",
      "/tmp/ipykernel_30873/2782387842.py:7: FutureWarning: The frame.append method is deprecated and will be removed from pandas in a future version. Use pandas.concat instead.\n",
      "  gdf = gdf.append(new_df)\n",
      "/tmp/ipykernel_30873/2782387842.py:7: FutureWarning: The frame.append method is deprecated and will be removed from pandas in a future version. Use pandas.concat instead.\n",
      "  gdf = gdf.append(new_df)\n",
      "/tmp/ipykernel_30873/2782387842.py:7: FutureWarning: The frame.append method is deprecated and will be removed from pandas in a future version. Use pandas.concat instead.\n",
      "  gdf = gdf.append(new_df)\n",
      "/tmp/ipykernel_30873/2782387842.py:7: FutureWarning: The frame.append method is deprecated and will be removed from pandas in a future version. Use pandas.concat instead.\n",
      "  gdf = gdf.append(new_df)\n",
      "/tmp/ipykernel_30873/2782387842.py:7: FutureWarning: The frame.append method is deprecated and will be removed from pandas in a future version. Use pandas.concat instead.\n",
      "  gdf = gdf.append(new_df)\n",
      "/tmp/ipykernel_30873/2782387842.py:7: FutureWarning: The frame.append method is deprecated and will be removed from pandas in a future version. Use pandas.concat instead.\n",
      "  gdf = gdf.append(new_df)\n",
      "/tmp/ipykernel_30873/2782387842.py:7: FutureWarning: The frame.append method is deprecated and will be removed from pandas in a future version. Use pandas.concat instead.\n",
      "  gdf = gdf.append(new_df)\n",
      "/tmp/ipykernel_30873/2782387842.py:7: FutureWarning: The frame.append method is deprecated and will be removed from pandas in a future version. Use pandas.concat instead.\n",
      "  gdf = gdf.append(new_df)\n"
     ]
    },
    {
     "name": "stdout",
     "output_type": "stream",
     "text": [
      "haigfras_substrate_xaaae_xaaac_xaaab_xaaaf.geojson\n",
      "haigfras_substrate_xaaae_xaaac_xaaab_xaaai_xaabu.geojson\n",
      "haigfras_substrate_xaaae_xaaac_xaaab_xaaai_xaabc.geojson\n",
      "haigfras_substrate_xaaae_xaaac_xaaab_xaaai_xaaax.geojson\n",
      "haigfras_substrate_xaaae_xaaac_xaaab_xaaai_xaabs.geojson\n",
      "haigfras_substrate_xaaae_xaaac_xaaab_xaaai_xaaae.geojson\n",
      "haigfras_substrate_xaaae_xaaac_xaaab_xaaai_xaabq.geojson\n",
      "haigfras_substrate_xaaae_xaaac_xaaab_xaaai_xaabl.geojson\n",
      "haigfras_substrate_xaaae_xaaac_xaaab_xaaai_xaaam.geojson\n"
     ]
    },
    {
     "name": "stderr",
     "output_type": "stream",
     "text": [
      "/tmp/ipykernel_30873/2782387842.py:7: FutureWarning: The frame.append method is deprecated and will be removed from pandas in a future version. Use pandas.concat instead.\n",
      "  gdf = gdf.append(new_df)\n",
      "/tmp/ipykernel_30873/2782387842.py:7: FutureWarning: The frame.append method is deprecated and will be removed from pandas in a future version. Use pandas.concat instead.\n",
      "  gdf = gdf.append(new_df)\n",
      "/tmp/ipykernel_30873/2782387842.py:7: FutureWarning: The frame.append method is deprecated and will be removed from pandas in a future version. Use pandas.concat instead.\n",
      "  gdf = gdf.append(new_df)\n",
      "/tmp/ipykernel_30873/2782387842.py:7: FutureWarning: The frame.append method is deprecated and will be removed from pandas in a future version. Use pandas.concat instead.\n",
      "  gdf = gdf.append(new_df)\n",
      "/tmp/ipykernel_30873/2782387842.py:7: FutureWarning: The frame.append method is deprecated and will be removed from pandas in a future version. Use pandas.concat instead.\n",
      "  gdf = gdf.append(new_df)\n"
     ]
    },
    {
     "name": "stdout",
     "output_type": "stream",
     "text": [
      "haigfras_substrate_xaaae_xaaac_xaaab_xaaai_xaaap.geojson\n",
      "haigfras_substrate_xaaae_xaaac_xaaab_xaaai_xaaat.geojson\n",
      "haigfras_substrate_xaaae_xaaac_xaaab_xaaai_xaaad.geojson\n",
      "haigfras_substrate_xaaae_xaaac_xaaab_xaaai_xaabd.geojson\n",
      "haigfras_substrate_xaaae_xaaac_xaaab_xaaai.geojson\n",
      "Failed to read GeoJSON data\n",
      "haigfras_substrate_xaaae_xaaac_xaaab_xaaai_xaaaz.geojson\n",
      "haigfras_substrate_xaaae_xaaac_xaaab_xaaai_xaabj.geojson\n",
      "haigfras_substrate_xaaae_xaaac_xaaab_xaaai_xaabk.geojson\n",
      "haigfras_substrate_xaaae_xaaac_xaaab_xaaai_xaaau.geojson\n",
      "haigfras_substrate_xaaae_xaaac_xaaab_xaaai_xaaba.geojson\n",
      "haigfras_substrate_xaaae_xaaac_xaaab_xaaai_xaabt.geojson\n",
      "haigfras_substrate_xaaae_xaaac_xaaab_xaaai_xaaas.geojson\n",
      "haigfras_substrate_xaaae_xaaac_xaaab_xaaai_xaabv.geojson\n",
      "haigfras_substrate_xaaae_xaaac_xaaab_xaaai_xaaaa.geojson\n",
      "haigfras_substrate_xaaae_xaaac_xaaab_xaaai_xaabr.geojson\n",
      "haigfras_substrate_xaaae_xaaac_xaaab_xaaag.geojson\n"
     ]
    },
    {
     "name": "stderr",
     "output_type": "stream",
     "text": [
      "/tmp/ipykernel_30873/2782387842.py:7: FutureWarning: The frame.append method is deprecated and will be removed from pandas in a future version. Use pandas.concat instead.\n",
      "  gdf = gdf.append(new_df)\n",
      "/tmp/ipykernel_30873/2782387842.py:7: FutureWarning: The frame.append method is deprecated and will be removed from pandas in a future version. Use pandas.concat instead.\n",
      "  gdf = gdf.append(new_df)\n",
      "/tmp/ipykernel_30873/2782387842.py:7: FutureWarning: The frame.append method is deprecated and will be removed from pandas in a future version. Use pandas.concat instead.\n",
      "  gdf = gdf.append(new_df)\n",
      "/tmp/ipykernel_30873/2782387842.py:7: FutureWarning: The frame.append method is deprecated and will be removed from pandas in a future version. Use pandas.concat instead.\n",
      "  gdf = gdf.append(new_df)\n",
      "/tmp/ipykernel_30873/2782387842.py:7: FutureWarning: The frame.append method is deprecated and will be removed from pandas in a future version. Use pandas.concat instead.\n",
      "  gdf = gdf.append(new_df)\n",
      "/tmp/ipykernel_30873/2782387842.py:7: FutureWarning: The frame.append method is deprecated and will be removed from pandas in a future version. Use pandas.concat instead.\n",
      "  gdf = gdf.append(new_df)\n",
      "/tmp/ipykernel_30873/2782387842.py:7: FutureWarning: The frame.append method is deprecated and will be removed from pandas in a future version. Use pandas.concat instead.\n",
      "  gdf = gdf.append(new_df)\n",
      "/tmp/ipykernel_30873/2782387842.py:7: FutureWarning: The frame.append method is deprecated and will be removed from pandas in a future version. Use pandas.concat instead.\n",
      "  gdf = gdf.append(new_df)\n",
      "/tmp/ipykernel_30873/2782387842.py:7: FutureWarning: The frame.append method is deprecated and will be removed from pandas in a future version. Use pandas.concat instead.\n",
      "  gdf = gdf.append(new_df)\n",
      "/tmp/ipykernel_30873/2782387842.py:7: FutureWarning: The frame.append method is deprecated and will be removed from pandas in a future version. Use pandas.concat instead.\n",
      "  gdf = gdf.append(new_df)\n"
     ]
    },
    {
     "name": "stdout",
     "output_type": "stream",
     "text": [
      "haigfras_substrate_xaaae_xaaac_xaaab_xaaai_xaabb.geojson\n",
      "haigfras_substrate_xaaae_xaaac_xaaab_xaaai_xaaaf.geojson\n",
      "haigfras_substrate_xaaae_xaaac_xaaab_xaaai_xaaak.geojson\n"
     ]
    },
    {
     "name": "stderr",
     "output_type": "stream",
     "text": [
      "/tmp/ipykernel_30873/2782387842.py:7: FutureWarning: The frame.append method is deprecated and will be removed from pandas in a future version. Use pandas.concat instead.\n",
      "  gdf = gdf.append(new_df)\n",
      "/tmp/ipykernel_30873/2782387842.py:7: FutureWarning: The frame.append method is deprecated and will be removed from pandas in a future version. Use pandas.concat instead.\n",
      "  gdf = gdf.append(new_df)\n",
      "/tmp/ipykernel_30873/2782387842.py:7: FutureWarning: The frame.append method is deprecated and will be removed from pandas in a future version. Use pandas.concat instead.\n",
      "  gdf = gdf.append(new_df)\n",
      "/tmp/ipykernel_30873/2782387842.py:7: FutureWarning: The frame.append method is deprecated and will be removed from pandas in a future version. Use pandas.concat instead.\n",
      "  gdf = gdf.append(new_df)\n"
     ]
    }
   ],
   "source": [
    "for file in files:\n",
    "    print(file)\n",
    "    try:\n",
    "        df = geopandas.read_file(str(file))\n",
    "        new_df = geopandas.clip(gdf=df, mask=[-1413232,6288190,-365497,6914553], keep_geom_type=False)\n",
    "        new_df.to_json()\n",
    "        gdf = gdf.append(new_df)        \n",
    "    except Exception as e:\n",
    "        print(e)"
   ]
  },
  {
   "cell_type": "code",
   "execution_count": 76,
   "id": "ca5c1f1e",
   "metadata": {},
   "outputs": [
    {
     "data": {
      "text/plain": [
       "<AxesSubplot:>"
      ]
     },
     "execution_count": 76,
     "metadata": {},
     "output_type": "execute_result"
    },
    {
     "data": {
      "image/png": "[encoded data removed]",
      "text/plain": [
       "<Figure size 640x480 with 1 Axes>"
      ]
     },
     "metadata": {},
     "output_type": "display_data"
    }
   ],
   "source": [
    "gdf.plot()"
   ]
  },
  {
   "cell_type": "markdown",
   "id": "c1a59e92",
   "metadata": {},
   "source": [
    "OPEN EMODNET SEABED BIOZONES"
   ]
  },
  {
   "cell_type": "code",
   "execution_count": 13,
   "id": "a3534bbb",
   "metadata": {},
   "outputs": [],
   "source": [
    "url_file = \"https://ows.emodnet-seabedhabitats.eu/geoserver/emodnet_open/wfs?SERVICE=WFS&request=getFeature&VERSION=2.0.0&typeName=emodnet_open:eusm2021_bio_full&outputFormat=application/json&bbox=-1413232,6288190,-365497,6914553\"\n",
    "r = requests.get(url_file)\n",
    "with open('haigfras_seabed.geojson', 'w') as f:\n",
    "   dump(r.json, f)\n",
    "with open('haigfras_seabed.geojson') as f:\n",
    "    gj = geojson.load(f)"
   ]
  },
  {
   "cell_type": "code",
   "execution_count": 14,
   "id": "2c63fc67",
   "metadata": {},
   "outputs": [],
   "source": [
    "for item in gj['features']:\n",
    "    del item[\"properties\"]['geom_200']\n",
    "    del item[\"properties\"]['geom_400']\n",
    "    del item[\"properties\"]['geom_800']"
   ]
  },
  {
   "cell_type": "code",
   "execution_count": 84,
   "id": "7a8a4571",
   "metadata": {},
   "outputs": [],
   "source": [
    "with open('haigfras.geojson', 'w') as f:\n",
    "   dump(gj, f)"
   ]
  },
  {
   "cell_type": "code",
   "execution_count": 24,
   "id": "295b29da",
   "metadata": {},
   "outputs": [
    {
     "data": {
      "text/plain": [
       "dict_keys(['type', 'geometry_name', 'bbox', 'id', 'geometry', 'properties'])"
      ]
     },
     "execution_count": 24,
     "metadata": {},
     "output_type": "execute_result"
    }
   ],
   "source": [
    "# gj['features'][0].keys()"
   ]
  },
  {
   "cell_type": "code",
   "execution_count": 2,
   "id": "24fa0443",
   "metadata": {},
   "outputs": [],
   "source": [
    "df = geopandas.read_file('haigfras.geojson')\n",
    "new_df = geopandas.clip(gdf=df, mask=[-1413232,6288190,-365497,6914553], keep_geom_type=False)"
   ]
  },
  {
   "cell_type": "code",
   "execution_count": 56,
   "id": "05539db4",
   "metadata": {},
   "outputs": [
    {
     "name": "stderr",
     "output_type": "stream",
     "text": [
      "/tmp/ipykernel_10620/477122882.py:1: FutureWarning: Currently, index_parts defaults to True, but in the future, it will default to False to be consistent with Pandas. Use `index_parts=True` to keep the current behavior and True/False to silence the warning.\n",
      "  df_exploded = df.explode(column='geometry')\n"
     ]
    }
   ],
   "source": [
    "# df_exploded = df.explode(column='geometry')"
   ]
  },
  {
   "cell_type": "code",
   "execution_count": 4,
   "id": "96bf3e1d",
   "metadata": {},
   "outputs": [],
   "source": [
    "new_df.to_file(\"haigfras_jasmin.geojson\", driver='GeoJSON')\n"
   ]
  },
  {
   "cell_type": "code",
   "execution_count": 94,
   "id": "de3739c7",
   "metadata": {},
   "outputs": [
    {
     "data": {
      "text/html": [
       "<div>\n",
       "<style scoped>\n",
       "    .dataframe tbody tr th:only-of-type {\n",
       "        vertical-align: middle;\n",
       "    }\n",
       "\n",
       "    .dataframe tbody tr th {\n",
       "        vertical-align: top;\n",
       "    }\n",
       "\n",
       "    .dataframe thead th {\n",
       "        text-align: right;\n",
       "    }\n",
       "</style>\n",
       "<table border=\"1\" class=\"dataframe\">\n",
       "  <thead>\n",
       "    <tr style=\"text-align: right;\">\n",
       "      <th></th>\n",
       "      <th>id</th>\n",
       "      <th>biozone</th>\n",
       "      <th>shape_length</th>\n",
       "      <th>shape_area</th>\n",
       "      <th>geometry</th>\n",
       "    </tr>\n",
       "  </thead>\n",
       "  <tbody>\n",
       "    <tr>\n",
       "      <th>2</th>\n",
       "      <td>eusm2021_bio_full.95785</td>\n",
       "      <td>Atlantic upper abyssal</td>\n",
       "      <td>9.874703e+07</td>\n",
       "      <td>2.060958e+12</td>\n",
       "      <td>POLYGON ((-1413232.000 6403810.186, -1413232.0...</td>\n",
       "    </tr>\n",
       "    <tr>\n",
       "      <th>1002</th>\n",
       "      <td>eusm2021_bio_full.42856</td>\n",
       "      <td>Atlantic lower bathyal</td>\n",
       "      <td>1.235303e+08</td>\n",
       "      <td>2.269562e+12</td>\n",
       "      <td>MULTIPOLYGON (((-1413232.000 6333391.140, -141...</td>\n",
       "    </tr>\n",
       "    <tr>\n",
       "      <th>2019</th>\n",
       "      <td>eusm2021_bio_full.122340</td>\n",
       "      <td>Atlanto-Mediterranean mid bathyal</td>\n",
       "      <td>5.861292e+02</td>\n",
       "      <td>2.053691e+04</td>\n",
       "      <td>POLYGON ((-1404017.078 6292023.474, -1403901.1...</td>\n",
       "    </tr>\n",
       "    <tr>\n",
       "      <th>11</th>\n",
       "      <td>eusm2021_bio_full.33787</td>\n",
       "      <td>Atlantic lower bathyal</td>\n",
       "      <td>5.861362e+02</td>\n",
       "      <td>2.053732e+04</td>\n",
       "      <td>POLYGON ((-1403901.120 6292023.474, -1404017.0...</td>\n",
       "    </tr>\n",
       "    <tr>\n",
       "      <th>2022</th>\n",
       "      <td>eusm2021_bio_full.122341</td>\n",
       "      <td>Atlanto-Mediterranean mid bathyal</td>\n",
       "      <td>9.403948e+02</td>\n",
       "      <td>4.107684e+04</td>\n",
       "      <td>POLYGON ((-1404480.909 6292731.938, -1404480.9...</td>\n",
       "    </tr>\n",
       "    <tr>\n",
       "      <th>2023</th>\n",
       "      <td>eusm2021_bio_full.122342</td>\n",
       "      <td>Atlanto-Mediterranean mid bathyal</td>\n",
       "      <td>5.861660e+02</td>\n",
       "      <td>2.053905e+04</td>\n",
       "      <td>POLYGON ((-1404944.740 6292909.063, -1404828.7...</td>\n",
       "    </tr>\n",
       "    <tr>\n",
       "      <th>2024</th>\n",
       "      <td>eusm2021_bio_full.122343</td>\n",
       "      <td>Atlanto-Mediterranean mid bathyal</td>\n",
       "      <td>5.861736e+02</td>\n",
       "      <td>2.053949e+04</td>\n",
       "      <td>POLYGON ((-1404944.740 6292909.063, -1405060.6...</td>\n",
       "    </tr>\n",
       "    <tr>\n",
       "      <th>2025</th>\n",
       "      <td>eusm2021_bio_full.122344</td>\n",
       "      <td>Atlanto-Mediterranean mid bathyal</td>\n",
       "      <td>5.861814e+02</td>\n",
       "      <td>2.053995e+04</td>\n",
       "      <td>POLYGON ((-1404712.824 6293086.192, -1404828.7...</td>\n",
       "    </tr>\n",
       "    <tr>\n",
       "      <th>14</th>\n",
       "      <td>eusm2021_bio_full.33790</td>\n",
       "      <td>Atlantic lower bathyal</td>\n",
       "      <td>5.862110e+02</td>\n",
       "      <td>2.054166e+04</td>\n",
       "      <td>POLYGON ((-1404248.993 6293794.746, -1404364.9...</td>\n",
       "    </tr>\n",
       "    <tr>\n",
       "      <th>15</th>\n",
       "      <td>eusm2021_bio_full.33791</td>\n",
       "      <td>Atlantic lower bathyal</td>\n",
       "      <td>3.285439e+03</td>\n",
       "      <td>2.465115e+05</td>\n",
       "      <td>POLYGON ((-1404944.740 6293794.746, -1405060.6...</td>\n",
       "    </tr>\n",
       "  </tbody>\n",
       "</table>\n",
       "</div>"
      ],
      "text/plain": [
       "                            id                            biozone  \\\n",
       "2      eusm2021_bio_full.95785             Atlantic upper abyssal   \n",
       "1002   eusm2021_bio_full.42856             Atlantic lower bathyal   \n",
       "2019  eusm2021_bio_full.122340  Atlanto-Mediterranean mid bathyal   \n",
       "11     eusm2021_bio_full.33787             Atlantic lower bathyal   \n",
       "2022  eusm2021_bio_full.122341  Atlanto-Mediterranean mid bathyal   \n",
       "2023  eusm2021_bio_full.122342  Atlanto-Mediterranean mid bathyal   \n",
       "2024  eusm2021_bio_full.122343  Atlanto-Mediterranean mid bathyal   \n",
       "2025  eusm2021_bio_full.122344  Atlanto-Mediterranean mid bathyal   \n",
       "14     eusm2021_bio_full.33790             Atlantic lower bathyal   \n",
       "15     eusm2021_bio_full.33791             Atlantic lower bathyal   \n",
       "\n",
       "      shape_length    shape_area  \\\n",
       "2     9.874703e+07  2.060958e+12   \n",
       "1002  1.235303e+08  2.269562e+12   \n",
       "2019  5.861292e+02  2.053691e+04   \n",
       "11    5.861362e+02  2.053732e+04   \n",
       "2022  9.403948e+02  4.107684e+04   \n",
       "2023  5.861660e+02  2.053905e+04   \n",
       "2024  5.861736e+02  2.053949e+04   \n",
       "2025  5.861814e+02  2.053995e+04   \n",
       "14    5.862110e+02  2.054166e+04   \n",
       "15    3.285439e+03  2.465115e+05   \n",
       "\n",
       "                                               geometry  \n",
       "2     POLYGON ((-1413232.000 6403810.186, -1413232.0...  \n",
       "1002  MULTIPOLYGON (((-1413232.000 6333391.140, -141...  \n",
       "2019  POLYGON ((-1404017.078 6292023.474, -1403901.1...  \n",
       "11    POLYGON ((-1403901.120 6292023.474, -1404017.0...  \n",
       "2022  POLYGON ((-1404480.909 6292731.938, -1404480.9...  \n",
       "2023  POLYGON ((-1404944.740 6292909.063, -1404828.7...  \n",
       "2024  POLYGON ((-1404944.740 6292909.063, -1405060.6...  \n",
       "2025  POLYGON ((-1404712.824 6293086.192, -1404828.7...  \n",
       "14    POLYGON ((-1404248.993 6293794.746, -1404364.9...  \n",
       "15    POLYGON ((-1404944.740 6293794.746, -1405060.6...  "
      ]
     },
     "execution_count": 94,
     "metadata": {},
     "output_type": "execute_result"
    }
   ],
   "source": [
    "new_df.head(10)"
   ]
  },
  {
   "cell_type": "code",
   "execution_count": 95,
   "id": "117e9814",
   "metadata": {},
   "outputs": [
    {
     "data": {
      "text/plain": [
       "9054"
      ]
     },
     "execution_count": 95,
     "metadata": {},
     "output_type": "execute_result"
    }
   ],
   "source": [
    "len(new_df.id.unique())"
   ]
  },
  {
   "cell_type": "code",
   "execution_count": 70,
   "id": "14ed52c4",
   "metadata": {},
   "outputs": [
    {
     "data": {
      "text/plain": [
       "<AxesSubplot:>"
      ]
     },
     "execution_count": 70,
     "metadata": {},
     "output_type": "execute_result"
    },
    {
     "data": {
      "image/png": "[encoded data removed]",
      "text/plain": [
       "<Figure size 640x480 with 1 Axes>"
      ]
     },
     "metadata": {},
     "output_type": "display_data"
    }
   ],
   "source": [
    "new_df.plot(column='biozone')"
   ]
  },
  {
   "cell_type": "code",
   "execution_count": null,
   "id": "c02090e5",
   "metadata": {},
   "outputs": [],
   "source": [
    "features = []\n",
    "for i, y in enumerate(xds.y.values):\n",
    "    for j, x in enumerate(xds.x.values):\n",
    "        point = Point((y, x))\n",
    "        feature = Feature(geometry=point,  properties = {'depth': int(xds.values[0][i][j].round(0))})\n",
    "        features.append(feature)"
   ]
  },
  {
   "cell_type": "code",
   "execution_count": 10,
   "id": "d0b93fe2",
   "metadata": {},
   "outputs": [],
   "source": [
    "import gdaltools\n",
    "import geopandas"
   ]
  },
  {
   "cell_type": "code",
   "execution_count": 5,
   "id": "31db45bb",
   "metadata": {},
   "outputs": [],
   "source": [
    "ogr = gdaltools.ogr2ogr()"
   ]
  },
  {
   "cell_type": "code",
   "execution_count": 6,
   "id": "0197670a",
   "metadata": {},
   "outputs": [
    {
     "data": {
      "text/plain": [
       "b''"
      ]
     },
     "execution_count": 6,
     "metadata": {},
     "output_type": "execute_result"
    }
   ],
   "source": [
    "ogr.set_input(\"myfile_3.geojson\", srs=\"EPSG:3857\")\n",
    "ogr.set_output(\"myfile_7.geojson\", srs=\"EPSG:4326\")\n",
    "ogr.execute()"
   ]
  },
  {
   "cell_type": "code",
   "execution_count": null,
   "id": "1736d559",
   "metadata": {},
   "outputs": [],
   "source": [
    "conn = gdaltools.PgConnectionString(host=\"localhost\", port=5432, dbname=\"scolab\", schema=\"data\", user=\"myuser\", password=\"mypass\")\n",
    "ogr.set_input(conn, table_name=\"roads\", srs=\"EPSG:4326\")\n",
    "ogr.set_output(\"mydb.sqlite\", srs=\"EPSG:25830\")\n",
    "ogr.execute()"
   ]
  },
  {
   "cell_type": "code",
   "execution_count": 41,
   "id": "b5ebf91e",
   "metadata": {},
   "outputs": [
    {
     "ename": "FileNotFoundError",
     "evalue": "[Errno 2] No such file or directory: 'https://ows.emodnet-seabedhabitats.eu/geoserver/emodnet_open/wfs?SERVICE=WFS&request=getFeature&VERSION=2.0.0&typeName=emodnet_open:eusm2021_bio_full&outputFormat=application/json'",
     "output_type": "error",
     "traceback": [
      "\u001b[0;31m---------------------------------------------------------------------------\u001b[0m",
      "\u001b[0;31mFileNotFoundError\u001b[0m                         Traceback (most recent call last)",
      "Cell \u001b[0;32mIn [41], line 2\u001b[0m\n\u001b[1;32m      1\u001b[0m \u001b[38;5;28;01mimport\u001b[39;00m \u001b[38;5;21;01mgeojson\u001b[39;00m\n\u001b[0;32m----> 2\u001b[0m \u001b[38;5;28;01mwith\u001b[39;00m \u001b[38;5;28;43mopen\u001b[39;49m\u001b[43m(\u001b[49m\u001b[43murl_file\u001b[49m\u001b[43m)\u001b[49m \u001b[38;5;28;01mas\u001b[39;00m f:\n\u001b[1;32m      3\u001b[0m     gj \u001b[38;5;241m=\u001b[39m geojson\u001b[38;5;241m.\u001b[39mload(f)\n",
      "\u001b[0;31mFileNotFoundError\u001b[0m: [Errno 2] No such file or directory: 'https://ows.emodnet-seabedhabitats.eu/geoserver/emodnet_open/wfs?SERVICE=WFS&request=getFeature&VERSION=2.0.0&typeName=emodnet_open:eusm2021_bio_full&outputFormat=application/json'"
     ]
    }
   ],
   "source": [
    "import geojson\n",
    "with open(url_file) as f:\n",
    "    gj = geojson.load(f)"
   ]
  },
  {
   "cell_type": "code",
   "execution_count": null,
   "id": "e17c5421",
   "metadata": {},
   "outputs": [],
   "source": []
  }
 ],
 "metadata": {
  "kernelspec": {
   "display_name": "Python 3 (ipykernel)",
   "language": "python",
   "name": "python3"
  },
  "language_info": {
   "codemirror_mode": {
    "name": "ipython",
    "version": 3
   },
   "file_extension": ".py",
   "mimetype": "text/x-python",
   "name": "python",
   "nbconvert_exporter": "python",
   "pygments_lexer": "ipython3",
   "version": "3.10.6"
  },
  "toc": {
   "base_numbering": 1,
   "nav_menu": {},
   "number_sections": true,
   "sideBar": true,
   "skip_h1_title": false,
   "title_cell": "Table of Contents",
   "title_sidebar": "Contents",
   "toc_cell": false,
   "toc_position": {},
   "toc_section_display": true,
   "toc_window_display": false
  }
 },
 "nbformat": 4,
 "nbformat_minor": 5
}
